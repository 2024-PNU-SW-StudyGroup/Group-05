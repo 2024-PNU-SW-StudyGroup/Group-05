{
 "cells": [
  {
   "cell_type": "code",
   "execution_count": 1,
   "metadata": {
    "colab": {
     "base_uri": "https://localhost:8080/"
    },
    "id": "KcDCtwBL2v0E",
    "outputId": "26425c19-fc7f-40e5-b8cf-dffd022dfa97"
   },
   "outputs": [
    {
     "name": "stdout",
     "output_type": "stream",
     "text": [
      "Collecting scglue==0.3.2\n",
      "  Downloading scglue-0.3.2-py3-none-any.whl.metadata (6.0 kB)\n",
      "Collecting anndata==0.8.0\n",
      "  Downloading anndata-0.8.0-py3-none-any.whl.metadata (4.6 kB)\n",
      "Collecting scikit-misc\n",
      "  Downloading scikit_misc-0.5.1-cp310-cp310-manylinux_2_17_x86_64.manylinux2014_x86_64.whl.metadata (5.0 kB)\n",
      "Collecting faiss-gpu\n",
      "  Downloading faiss_gpu-1.7.2-cp310-cp310-manylinux_2_17_x86_64.manylinux2014_x86_64.whl.metadata (1.4 kB)\n",
      "Requirement already satisfied: numpy>=1.19 in /usr/local/lib/python3.10/dist-packages (from scglue==0.3.2) (1.26.4)\n",
      "Requirement already satisfied: scipy>=1.3 in /usr/local/lib/python3.10/dist-packages (from scglue==0.3.2) (1.13.1)\n",
      "Requirement already satisfied: pandas>=1.1 in /usr/local/lib/python3.10/dist-packages (from scglue==0.3.2) (2.2.2)\n",
      "Requirement already satisfied: matplotlib>=3.1.2 in /usr/local/lib/python3.10/dist-packages (from scglue==0.3.2) (3.8.0)\n",
      "Requirement already satisfied: seaborn>=0.9 in /usr/local/lib/python3.10/dist-packages (from scglue==0.3.2) (0.13.2)\n",
      "Collecting dill>=0.2.3 (from scglue==0.3.2)\n",
      "  Downloading dill-0.3.9-py3-none-any.whl.metadata (10 kB)\n",
      "Requirement already satisfied: tqdm>=4.27 in /usr/local/lib/python3.10/dist-packages (from scglue==0.3.2) (4.66.6)\n",
      "Requirement already satisfied: scikit-learn>=0.21.2 in /usr/local/lib/python3.10/dist-packages (from scglue==0.3.2) (1.5.2)\n",
      "Requirement already satisfied: statsmodels>=0.10 in /usr/local/lib/python3.10/dist-packages (from scglue==0.3.2) (0.14.4)\n",
      "Collecting parse>=1.3.2 (from scglue==0.3.2)\n",
      "  Downloading parse-1.20.2-py2.py3-none-any.whl.metadata (22 kB)\n",
      "Requirement already satisfied: networkx>=2 in /usr/local/lib/python3.10/dist-packages (from scglue==0.3.2) (3.4.2)\n",
      "Collecting pynvml>=8.0.1 (from scglue==0.3.2)\n",
      "  Downloading pynvml-12.0.0-py3-none-any.whl.metadata (5.4 kB)\n",
      "Requirement already satisfied: torch>=1.8 in /usr/local/lib/python3.10/dist-packages (from scglue==0.3.2) (2.5.1+cu121)\n",
      "Collecting pytorch-ignite>=0.4.1 (from scglue==0.3.2)\n",
      "  Downloading pytorch_ignite-0.5.1-py3-none-any.whl.metadata (27 kB)\n",
      "Collecting tensorboardX>=1.4 (from scglue==0.3.2)\n",
      "  Downloading tensorboardX-2.6.2.2-py2.py3-none-any.whl.metadata (5.8 kB)\n",
      "Collecting scanpy>=1.5 (from scglue==0.3.2)\n",
      "  Downloading scanpy-1.10.4-py3-none-any.whl.metadata (9.3 kB)\n",
      "Collecting pybedtools>=0.8.1 (from scglue==0.3.2)\n",
      "  Downloading pybedtools-0.10.0.tar.gz (12.6 MB)\n",
      "\u001b[2K     \u001b[90m━━━━━━━━━━━━━━━━━━━━━━━━━━━━━━━━━━━━━━━━\u001b[0m \u001b[32m12.6/12.6 MB\u001b[0m \u001b[31m60.4 MB/s\u001b[0m eta \u001b[36m0:00:00\u001b[0m\n",
      "\u001b[?25h  Preparing metadata (setup.py) ... \u001b[?25l\u001b[?25hdone\n",
      "Requirement already satisfied: h5py>=2.10 in /usr/local/lib/python3.10/dist-packages (from scglue==0.3.2) (3.12.1)\n",
      "Collecting sparse>=0.3.1 (from scglue==0.3.2)\n",
      "  Downloading sparse-0.15.4-py2.py3-none-any.whl.metadata (4.5 kB)\n",
      "Requirement already satisfied: packaging>=16.8 in /usr/local/lib/python3.10/dist-packages (from scglue==0.3.2) (24.2)\n",
      "Collecting leidenalg>=0.7 (from scglue==0.3.2)\n",
      "  Downloading leidenalg-0.10.2-cp38-abi3-manylinux_2_17_x86_64.manylinux2014_x86_64.whl.metadata (10 kB)\n",
      "Requirement already satisfied: natsort in /usr/local/lib/python3.10/dist-packages (from anndata==0.8.0) (8.4.0)\n",
      "Collecting igraph<0.12,>=0.10.0 (from leidenalg>=0.7->scglue==0.3.2)\n",
      "  Downloading igraph-0.11.8-cp39-abi3-manylinux_2_17_x86_64.manylinux2014_x86_64.whl.metadata (3.8 kB)\n",
      "Requirement already satisfied: contourpy>=1.0.1 in /usr/local/lib/python3.10/dist-packages (from matplotlib>=3.1.2->scglue==0.3.2) (1.3.1)\n",
      "Requirement already satisfied: cycler>=0.10 in /usr/local/lib/python3.10/dist-packages (from matplotlib>=3.1.2->scglue==0.3.2) (0.12.1)\n",
      "Requirement already satisfied: fonttools>=4.22.0 in /usr/local/lib/python3.10/dist-packages (from matplotlib>=3.1.2->scglue==0.3.2) (4.55.0)\n",
      "Requirement already satisfied: kiwisolver>=1.0.1 in /usr/local/lib/python3.10/dist-packages (from matplotlib>=3.1.2->scglue==0.3.2) (1.4.7)\n",
      "Requirement already satisfied: pillow>=6.2.0 in /usr/local/lib/python3.10/dist-packages (from matplotlib>=3.1.2->scglue==0.3.2) (11.0.0)\n",
      "Requirement already satisfied: pyparsing>=2.3.1 in /usr/local/lib/python3.10/dist-packages (from matplotlib>=3.1.2->scglue==0.3.2) (3.2.0)\n",
      "Requirement already satisfied: python-dateutil>=2.7 in /usr/local/lib/python3.10/dist-packages (from matplotlib>=3.1.2->scglue==0.3.2) (2.8.2)\n",
      "Requirement already satisfied: pytz>=2020.1 in /usr/local/lib/python3.10/dist-packages (from pandas>=1.1->scglue==0.3.2) (2024.2)\n",
      "Requirement already satisfied: tzdata>=2022.7 in /usr/local/lib/python3.10/dist-packages (from pandas>=1.1->scglue==0.3.2) (2024.2)\n",
      "Collecting pysam (from pybedtools>=0.8.1->scglue==0.3.2)\n",
      "  Downloading pysam-0.22.1-cp310-cp310-manylinux_2_28_x86_64.whl.metadata (1.5 kB)\n",
      "Collecting nvidia-ml-py<13.0.0a0,>=12.0.0 (from pynvml>=8.0.1->scglue==0.3.2)\n",
      "  Downloading nvidia_ml_py-12.560.30-py3-none-any.whl.metadata (8.6 kB)\n",
      "Requirement already satisfied: joblib in /usr/local/lib/python3.10/dist-packages (from scanpy>=1.5->scglue==0.3.2) (1.4.2)\n",
      "Collecting legacy-api-wrap>=1.4 (from scanpy>=1.5->scglue==0.3.2)\n",
      "  Downloading legacy_api_wrap-1.4.1-py3-none-any.whl.metadata (2.1 kB)\n",
      "Requirement already satisfied: numba>=0.56 in /usr/local/lib/python3.10/dist-packages (from scanpy>=1.5->scglue==0.3.2) (0.60.0)\n",
      "Requirement already satisfied: patsy!=1.0.0 in /usr/local/lib/python3.10/dist-packages (from scanpy>=1.5->scglue==0.3.2) (1.0.1)\n",
      "Collecting pynndescent>=0.5 (from scanpy>=1.5->scglue==0.3.2)\n",
      "  Downloading pynndescent-0.5.13-py3-none-any.whl.metadata (6.8 kB)\n",
      "Collecting session-info (from scanpy>=1.5->scglue==0.3.2)\n",
      "  Downloading session_info-1.0.0.tar.gz (24 kB)\n",
      "  Preparing metadata (setup.py) ... \u001b[?25l\u001b[?25hdone\n",
      "Collecting umap-learn!=0.5.0,>=0.5 (from scanpy>=1.5->scglue==0.3.2)\n",
      "  Downloading umap_learn-0.5.7-py3-none-any.whl.metadata (21 kB)\n",
      "Requirement already satisfied: threadpoolctl>=3.1.0 in /usr/local/lib/python3.10/dist-packages (from scikit-learn>=0.21.2->scglue==0.3.2) (3.5.0)\n",
      "Requirement already satisfied: protobuf>=3.20 in /usr/local/lib/python3.10/dist-packages (from tensorboardX>=1.4->scglue==0.3.2) (4.25.5)\n",
      "Requirement already satisfied: filelock in /usr/local/lib/python3.10/dist-packages (from torch>=1.8->scglue==0.3.2) (3.16.1)\n",
      "Requirement already satisfied: typing-extensions>=4.8.0 in /usr/local/lib/python3.10/dist-packages (from torch>=1.8->scglue==0.3.2) (4.12.2)\n",
      "Requirement already satisfied: jinja2 in /usr/local/lib/python3.10/dist-packages (from torch>=1.8->scglue==0.3.2) (3.1.4)\n",
      "Requirement already satisfied: fsspec in /usr/local/lib/python3.10/dist-packages (from torch>=1.8->scglue==0.3.2) (2024.10.0)\n",
      "Requirement already satisfied: sympy==1.13.1 in /usr/local/lib/python3.10/dist-packages (from torch>=1.8->scglue==0.3.2) (1.13.1)\n",
      "Requirement already satisfied: mpmath<1.4,>=1.1.0 in /usr/local/lib/python3.10/dist-packages (from sympy==1.13.1->torch>=1.8->scglue==0.3.2) (1.3.0)\n",
      "Collecting texttable>=1.6.2 (from igraph<0.12,>=0.10.0->leidenalg>=0.7->scglue==0.3.2)\n",
      "  Downloading texttable-1.7.0-py2.py3-none-any.whl.metadata (9.8 kB)\n",
      "Requirement already satisfied: llvmlite<0.44,>=0.43.0dev0 in /usr/local/lib/python3.10/dist-packages (from numba>=0.56->scanpy>=1.5->scglue==0.3.2) (0.43.0)\n",
      "Requirement already satisfied: six>=1.5 in /usr/local/lib/python3.10/dist-packages (from python-dateutil>=2.7->matplotlib>=3.1.2->scglue==0.3.2) (1.16.0)\n",
      "Requirement already satisfied: MarkupSafe>=2.0 in /usr/local/lib/python3.10/dist-packages (from jinja2->torch>=1.8->scglue==0.3.2) (3.0.2)\n",
      "Collecting stdlib_list (from session-info->scanpy>=1.5->scglue==0.3.2)\n",
      "  Downloading stdlib_list-0.11.0-py3-none-any.whl.metadata (3.3 kB)\n",
      "Downloading scglue-0.3.2-py3-none-any.whl (81 kB)\n",
      "\u001b[2K   \u001b[90m━━━━━━━━━━━━━━━━━━━━━━━━━━━━━━━━━━━━━━━━\u001b[0m \u001b[32m81.1/81.1 kB\u001b[0m \u001b[31m7.4 MB/s\u001b[0m eta \u001b[36m0:00:00\u001b[0m\n",
      "\u001b[?25hDownloading anndata-0.8.0-py3-none-any.whl (96 kB)\n",
      "\u001b[2K   \u001b[90m━━━━━━━━━━━━━━━━━━━━━━━━━━━━━━━━━━━━━━━━\u001b[0m \u001b[32m96.1/96.1 kB\u001b[0m \u001b[31m1.9 MB/s\u001b[0m eta \u001b[36m0:00:00\u001b[0m\n",
      "\u001b[?25hDownloading scikit_misc-0.5.1-cp310-cp310-manylinux_2_17_x86_64.manylinux2014_x86_64.whl (188 kB)\n",
      "\u001b[2K   \u001b[90m━━━━━━━━━━━━━━━━━━━━━━━━━━━━━━━━━━━━━━━━\u001b[0m \u001b[32m188.8/188.8 kB\u001b[0m \u001b[31m15.7 MB/s\u001b[0m eta \u001b[36m0:00:00\u001b[0m\n",
      "\u001b[?25hDownloading faiss_gpu-1.7.2-cp310-cp310-manylinux_2_17_x86_64.manylinux2014_x86_64.whl (85.5 MB)\n",
      "\u001b[2K   \u001b[90m━━━━━━━━━━━━━━━━━━━━━━━━━━━━━━━━━━━━━━━━\u001b[0m \u001b[32m85.5/85.5 MB\u001b[0m \u001b[31m11.3 MB/s\u001b[0m eta \u001b[36m0:00:00\u001b[0m\n",
      "\u001b[?25hDownloading dill-0.3.9-py3-none-any.whl (119 kB)\n",
      "\u001b[2K   \u001b[90m━━━━━━━━━━━━━━━━━━━━━━━━━━━━━━━━━━━━━━━━\u001b[0m \u001b[32m119.4/119.4 kB\u001b[0m \u001b[31m9.6 MB/s\u001b[0m eta \u001b[36m0:00:00\u001b[0m\n",
      "\u001b[?25hDownloading leidenalg-0.10.2-cp38-abi3-manylinux_2_17_x86_64.manylinux2014_x86_64.whl (2.0 MB)\n",
      "\u001b[2K   \u001b[90m━━━━━━━━━━━━━━━━━━━━━━━━━━━━━━━━━━━━━━━━\u001b[0m \u001b[32m2.0/2.0 MB\u001b[0m \u001b[31m77.3 MB/s\u001b[0m eta \u001b[36m0:00:00\u001b[0m\n",
      "\u001b[?25hDownloading parse-1.20.2-py2.py3-none-any.whl (20 kB)\n",
      "Downloading pynvml-12.0.0-py3-none-any.whl (26 kB)\n",
      "Downloading pytorch_ignite-0.5.1-py3-none-any.whl (312 kB)\n",
      "\u001b[2K   \u001b[90m━━━━━━━━━━━━━━━━━━━━━━━━━━━━━━━━━━━━━━━━\u001b[0m \u001b[32m312.7/312.7 kB\u001b[0m \u001b[31m27.7 MB/s\u001b[0m eta \u001b[36m0:00:00\u001b[0m\n",
      "\u001b[?25hDownloading scanpy-1.10.4-py3-none-any.whl (2.1 MB)\n",
      "\u001b[2K   \u001b[90m━━━━━━━━━━━━━━━━━━━━━━━━━━━━━━━━━━━━━━━━\u001b[0m \u001b[32m2.1/2.1 MB\u001b[0m \u001b[31m65.4 MB/s\u001b[0m eta \u001b[36m0:00:00\u001b[0m\n",
      "\u001b[?25hDownloading sparse-0.15.4-py2.py3-none-any.whl (237 kB)\n",
      "\u001b[2K   \u001b[90m━━━━━━━━━━━━━━━━━━━━━━━━━━━━━━━━━━━━━━━━\u001b[0m \u001b[32m237.3/237.3 kB\u001b[0m \u001b[31m21.1 MB/s\u001b[0m eta \u001b[36m0:00:00\u001b[0m\n",
      "\u001b[?25hDownloading tensorboardX-2.6.2.2-py2.py3-none-any.whl (101 kB)\n",
      "\u001b[2K   \u001b[90m━━━━━━━━━━━━━━━━━━━━━━━━━━━━━━━━━━━━━━━━\u001b[0m \u001b[32m101.7/101.7 kB\u001b[0m \u001b[31m9.1 MB/s\u001b[0m eta \u001b[36m0:00:00\u001b[0m\n",
      "\u001b[?25hDownloading igraph-0.11.8-cp39-abi3-manylinux_2_17_x86_64.manylinux2014_x86_64.whl (3.1 MB)\n",
      "\u001b[2K   \u001b[90m━━━━━━━━━━━━━━━━━━━━━━━━━━━━━━━━━━━━━━━━\u001b[0m \u001b[32m3.1/3.1 MB\u001b[0m \u001b[31m75.7 MB/s\u001b[0m eta \u001b[36m0:00:00\u001b[0m\n",
      "\u001b[?25hDownloading legacy_api_wrap-1.4.1-py3-none-any.whl (10.0 kB)\n",
      "Downloading nvidia_ml_py-12.560.30-py3-none-any.whl (40 kB)\n",
      "\u001b[2K   \u001b[90m━━━━━━━━━━━━━━━━━━━━━━━━━━━━━━━━━━━━━━━━\u001b[0m \u001b[32m40.5/40.5 kB\u001b[0m \u001b[31m3.5 MB/s\u001b[0m eta \u001b[36m0:00:00\u001b[0m\n",
      "\u001b[?25hDownloading pynndescent-0.5.13-py3-none-any.whl (56 kB)\n",
      "\u001b[2K   \u001b[90m━━━━━━━━━━━━━━━━━━━━━━━━━━━━━━━━━━━━━━━━\u001b[0m \u001b[32m56.9/56.9 kB\u001b[0m \u001b[31m3.3 MB/s\u001b[0m eta \u001b[36m0:00:00\u001b[0m\n",
      "\u001b[?25hDownloading umap_learn-0.5.7-py3-none-any.whl (88 kB)\n",
      "\u001b[2K   \u001b[90m━━━━━━━━━━━━━━━━━━━━━━━━━━━━━━━━━━━━━━━━\u001b[0m \u001b[32m88.8/88.8 kB\u001b[0m \u001b[31m6.7 MB/s\u001b[0m eta \u001b[36m0:00:00\u001b[0m\n",
      "\u001b[?25hDownloading pysam-0.22.1-cp310-cp310-manylinux_2_28_x86_64.whl (22.0 MB)\n",
      "\u001b[2K   \u001b[90m━━━━━━━━━━━━━━━━━━━━━━━━━━━━━━━━━━━━━━━━\u001b[0m \u001b[32m22.0/22.0 MB\u001b[0m \u001b[31m49.4 MB/s\u001b[0m eta \u001b[36m0:00:00\u001b[0m\n",
      "\u001b[?25hDownloading texttable-1.7.0-py2.py3-none-any.whl (10 kB)\n",
      "Downloading stdlib_list-0.11.0-py3-none-any.whl (83 kB)\n",
      "\u001b[2K   \u001b[90m━━━━━━━━━━━━━━━━━━━━━━━━━━━━━━━━━━━━━━━━\u001b[0m \u001b[32m83.6/83.6 kB\u001b[0m \u001b[31m7.4 MB/s\u001b[0m eta \u001b[36m0:00:00\u001b[0m\n",
      "\u001b[?25hBuilding wheels for collected packages: pybedtools, session-info\n",
      "  Building wheel for pybedtools (setup.py) ... \u001b[?25l\u001b[?25hdone\n",
      "  Created wheel for pybedtools: filename=pybedtools-0.10.0-cp310-cp310-linux_x86_64.whl size=14164846 sha256=d1c5042a751ee12997a8359460e588a09bb96193c0ae1bf89456dcb9d4705594\n",
      "  Stored in directory: /root/.cache/pip/wheels/e5/26/a4/6913af11fdcfbc926c98fee0768b4fe955f6e3cc7ebe2c9d9e\n",
      "  Building wheel for session-info (setup.py) ... \u001b[?25l\u001b[?25hdone\n",
      "  Created wheel for session-info: filename=session_info-1.0.0-py3-none-any.whl size=8023 sha256=cd13ec41d5f9726072d570c12ff3879055a08423ebf918118d5766ed3096eb0c\n",
      "  Stored in directory: /root/.cache/pip/wheels/6a/aa/b9/eb5d4031476ec10802795b97ccf937b9bd998d68a9b268765a\n",
      "Successfully built pybedtools session-info\n",
      "Installing collected packages: texttable, parse, nvidia-ml-py, faiss-gpu, tensorboardX, stdlib_list, scikit-misc, pysam, pynvml, legacy-api-wrap, igraph, dill, sparse, session-info, pybedtools, leidenalg, pytorch-ignite, pynndescent, anndata, umap-learn, scanpy, scglue\n",
      "Successfully installed anndata-0.8.0 dill-0.3.9 faiss-gpu-1.7.2 igraph-0.11.8 legacy-api-wrap-1.4.1 leidenalg-0.10.2 nvidia-ml-py-12.560.30 parse-1.20.2 pybedtools-0.10.0 pynndescent-0.5.13 pynvml-12.0.0 pysam-0.22.1 pytorch-ignite-0.5.1 scanpy-1.10.4 scglue-0.3.2 scikit-misc-0.5.1 session-info-1.0.0 sparse-0.15.4 stdlib_list-0.11.0 tensorboardX-2.6.2.2 texttable-1.7.0 umap-learn-0.5.7\n",
      "Reading package lists... Done\n",
      "Building dependency tree... Done\n",
      "Reading state information... Done\n",
      "The following NEW packages will be installed:\n",
      "  bedtools\n",
      "0 upgraded, 1 newly installed, 0 to remove and 49 not upgraded.\n",
      "Need to get 563 kB of archives.\n",
      "After this operation, 1,548 kB of additional disk space will be used.\n",
      "Get:1 http://archive.ubuntu.com/ubuntu jammy-updates/universe amd64 bedtools amd64 2.30.0+dfsg-2ubuntu0.1 [563 kB]\n",
      "Fetched 563 kB in 2s (338 kB/s)\n",
      "Selecting previously unselected package bedtools.\n",
      "(Reading database ... 123632 files and directories currently installed.)\n",
      "Preparing to unpack .../bedtools_2.30.0+dfsg-2ubuntu0.1_amd64.deb ...\n",
      "Unpacking bedtools (2.30.0+dfsg-2ubuntu0.1) ...\n",
      "Setting up bedtools (2.30.0+dfsg-2ubuntu0.1) ...\n"
     ]
    }
   ],
   "source": [
    "!pip install scglue==0.3.2 anndata==0.8.0 scikit-misc faiss-gpu\n",
    "!apt-get install bedtools"
   ]
  },
  {
   "cell_type": "code",
   "execution_count": 2,
   "metadata": {
    "colab": {
     "base_uri": "https://localhost:8080/"
    },
    "id": "xH-ElX0KtZXO",
    "outputId": "7ee18775-f42e-44ae-fe26-5bc44e0d3fe3"
   },
   "outputs": [
    {
     "name": "stderr",
     "output_type": "stream",
     "text": [
      "/usr/local/lib/python3.10/dist-packages/ignite/handlers/checkpoint.py:16: DeprecationWarning: `TorchScript` support for functional optimizers is deprecated and will be removed in a future PyTorch release. Consider using the `torch.compile` optimizer instead.\n",
      "  from torch.distributed.optim import ZeroRedundancyOptimizer\n"
     ]
    }
   ],
   "source": [
    "from itertools import chain\n",
    "from random import Random\n",
    "\n",
    "import anndata as ad\n",
    "import networkx as nx\n",
    "import pandas as pd\n",
    "import scanpy as sc\n",
    "import scglue\n",
    "import seaborn as sns\n",
    "from matplotlib import rcParams"
   ]
  },
  {
   "cell_type": "code",
   "execution_count": 3,
   "metadata": {
    "id": "0LMa3ucvtfm_"
   },
   "outputs": [],
   "source": [
    "scglue.plot.set_publication_params()\n",
    "rcParams[\"figure.figsize\"] = (4, 4)"
   ]
  },
  {
   "cell_type": "code",
   "execution_count": 5,
   "metadata": {
    "id": "LSCJLg2JtjTF"
   },
   "outputs": [],
   "source": [
    "rna = ad.read_h5ad(\"rna-pp.h5ad\")\n",
    "atac = ad.read_h5ad(\"atac-pp.h5ad\")\n",
    "guidance = nx.read_graphml(\"guidance.graphml.gz\")"
   ]
  },
  {
   "cell_type": "code",
   "execution_count": 6,
   "metadata": {
    "colab": {
     "base_uri": "https://localhost:8080/"
    },
    "id": "cWiol1vttkVr",
    "outputId": "a4d37fb1-96b1-44bc-8b41-36bdeab5131b"
   },
   "outputs": [
    {
     "data": {
      "text/plain": [
       "(Index(['AAACAGCCAAAGCCTC-1', 'AAACAGCCAGAATGAC-1', 'AAACAGCCAGCTACGT-1',\n",
       "        'AAACAGCCAGGCCTTG-1', 'AAACAGCCATAAGGAC-1', 'AAACAGCCATAATGTC-1',\n",
       "        'AAACATGCAGCAATAA-1', 'AAACATGCAGCCAGAA-1', 'AAACATGCAGGCGATA-1',\n",
       "        'AAACATGCAGTTTCTC-1',\n",
       "        ...\n",
       "        'TTTGTGGCATGAATCT-1', 'TTTGTGTTCAGTTCCC-1', 'TTTGTGTTCCCTCATA-1',\n",
       "        'TTTGTGTTCCTTGAGG-1', 'TTTGTGTTCTAGCTAA-1', 'TTTGTTGGTACGCGCA-1',\n",
       "        'TTTGTTGGTATTTGCC-1', 'TTTGTTGGTGATTACG-1', 'TTTGTTGGTTTCAGGA-1',\n",
       "        'TTTGTTGGTTTCCACG-1'],\n",
       "       dtype='object', length=12012),\n",
       " Index(['AAACAGCCAAAGCCTC-1', 'AAACAGCCAGAATGAC-1', 'AAACAGCCAGCTACGT-1',\n",
       "        'AAACAGCCAGGCCTTG-1', 'AAACAGCCATAAGGAC-1', 'AAACAGCCATAATGTC-1',\n",
       "        'AAACATGCAGCAATAA-1', 'AAACATGCAGCCAGAA-1', 'AAACATGCAGGCGATA-1',\n",
       "        'AAACATGCAGTTTCTC-1',\n",
       "        ...\n",
       "        'TTTGTGGCATGAATCT-1', 'TTTGTGTTCAGTTCCC-1', 'TTTGTGTTCCCTCATA-1',\n",
       "        'TTTGTGTTCCTTGAGG-1', 'TTTGTGTTCTAGCTAA-1', 'TTTGTTGGTACGCGCA-1',\n",
       "        'TTTGTTGGTATTTGCC-1', 'TTTGTTGGTGATTACG-1', 'TTTGTTGGTTTCAGGA-1',\n",
       "        'TTTGTTGGTTTCCACG-1'],\n",
       "       dtype='object', length=12012))"
      ]
     },
     "execution_count": 6,
     "metadata": {},
     "output_type": "execute_result"
    }
   ],
   "source": [
    "rna.obs_names, atac.obs_names"
   ]
  },
  {
   "cell_type": "code",
   "execution_count": 7,
   "metadata": {
    "id": "zXzhYlYFtn2s"
   },
   "outputs": [],
   "source": [
    "scglue.models.configure_dataset(\n",
    "    rna, \"NB\", use_highly_variable=True,\n",
    "    use_layer=\"counts\", use_rep=\"X_pca\",\n",
    "    use_obs_names=True\n",
    ")"
   ]
  },
  {
   "cell_type": "code",
   "execution_count": 8,
   "metadata": {
    "id": "UsfUxdqpt_oF"
   },
   "outputs": [],
   "source": [
    "scglue.models.configure_dataset(\n",
    "    atac, \"NB\", use_highly_variable=True,\n",
    "    use_rep=\"X_lsi\",\n",
    "    use_obs_names=True\n",
    ")"
   ]
  },
  {
   "cell_type": "code",
   "execution_count": 9,
   "metadata": {
    "id": "aHM8lmMOuKRs"
   },
   "outputs": [],
   "source": [
    "guidance_hvf = guidance.subgraph(chain(\n",
    "    rna.var.query(\"highly_variable\").index,\n",
    "    atac.var.query(\"highly_variable\").index\n",
    ")).copy()"
   ]
  },
  {
   "cell_type": "code",
   "execution_count": 14,
   "metadata": {
    "colab": {
     "base_uri": "https://localhost:8080/"
    },
    "id": "vYfrCOx_uajP",
    "outputId": "c09bb4da-fb68-4609-e588-cece6ddc40dd"
   },
   "outputs": [
    {
     "name": "stdout",
     "output_type": "stream",
     "text": [
      "[INFO] fit_SCGLUE: Pretraining SCGLUE model...\n"
     ]
    },
    {
     "name": "stderr",
     "output_type": "stream",
     "text": [
      "INFO:fit_SCGLUE:Pretraining SCGLUE model...\n"
     ]
    },
    {
     "name": "stdout",
     "output_type": "stream",
     "text": [
      "[INFO] check_graph: Checking variable coverage...\n"
     ]
    },
    {
     "name": "stderr",
     "output_type": "stream",
     "text": [
      "INFO:check_graph:Checking variable coverage...\n"
     ]
    },
    {
     "name": "stdout",
     "output_type": "stream",
     "text": [
      "[INFO] check_graph: Checking edge attributes...\n"
     ]
    },
    {
     "name": "stderr",
     "output_type": "stream",
     "text": [
      "INFO:check_graph:Checking edge attributes...\n"
     ]
    },
    {
     "name": "stdout",
     "output_type": "stream",
     "text": [
      "[INFO] check_graph: Checking self-loops...\n"
     ]
    },
    {
     "name": "stderr",
     "output_type": "stream",
     "text": [
      "INFO:check_graph:Checking self-loops...\n"
     ]
    },
    {
     "name": "stdout",
     "output_type": "stream",
     "text": [
      "[INFO] check_graph: Checking graph symmetry...\n"
     ]
    },
    {
     "name": "stderr",
     "output_type": "stream",
     "text": [
      "INFO:check_graph:Checking graph symmetry...\n"
     ]
    },
    {
     "name": "stdout",
     "output_type": "stream",
     "text": [
      "[INFO] PairedSCGLUEModel: Setting `graph_batch_size` = 13031\n"
     ]
    },
    {
     "name": "stderr",
     "output_type": "stream",
     "text": [
      "INFO:PairedSCGLUEModel:Setting `graph_batch_size` = 13031\n"
     ]
    },
    {
     "name": "stdout",
     "output_type": "stream",
     "text": [
      "[INFO] PairedSCGLUEModel: Setting `max_epochs` = 285\n"
     ]
    },
    {
     "name": "stderr",
     "output_type": "stream",
     "text": [
      "INFO:PairedSCGLUEModel:Setting `max_epochs` = 285\n"
     ]
    },
    {
     "name": "stdout",
     "output_type": "stream",
     "text": [
      "[INFO] PairedSCGLUEModel: Setting `patience` = 24\n"
     ]
    },
    {
     "name": "stderr",
     "output_type": "stream",
     "text": [
      "INFO:PairedSCGLUEModel:Setting `patience` = 24\n"
     ]
    },
    {
     "name": "stdout",
     "output_type": "stream",
     "text": [
      "[INFO] PairedSCGLUEModel: Setting `reduce_lr_patience` = 12\n"
     ]
    },
    {
     "name": "stderr",
     "output_type": "stream",
     "text": [
      "INFO:PairedSCGLUEModel:Setting `reduce_lr_patience` = 12\n",
      "DEBUG:GraphDataset:Started background process: 1893\n"
     ]
    },
    {
     "name": "stdout",
     "output_type": "stream",
     "text": [
      "[INFO] PairedSCGLUETrainer: Using training directory: \"glue/pretrain\"\n"
     ]
    },
    {
     "name": "stderr",
     "output_type": "stream",
     "text": [
      "/usr/local/lib/python3.10/dist-packages/torch/optim/lr_scheduler.py:62: UserWarning: The verbose parameter is deprecated. Please use get_last_lr() to access the learning rate.\n",
      "  warnings.warn(\n",
      "INFO:PairedSCGLUETrainer:Using training directory: \"glue/pretrain\"\n"
     ]
    },
    {
     "name": "stdout",
     "output_type": "stream",
     "text": [
      "[INFO] PairedSCGLUETrainer: [Epoch 10] train={'g_nll': 0.51, 'g_kl': 0.011, 'g_elbo': 0.521, 'x_rna_nll': 0.352, 'x_rna_kl': 0.013, 'x_rna_elbo': 0.365, 'x_atac_nll': 0.198, 'x_atac_kl': 0.003, 'x_atac_elbo': 0.2, 'dsc_loss': 0.691, 'vae_loss': 0.614, 'gen_loss': 0.579, 'joint_cross_loss': 0.548, 'real_cross_loss': 0.56, 'cos_loss': 0.3}, val={'g_nll': 0.504, 'g_kl': 0.012, 'g_elbo': 0.516, 'x_rna_nll': 0.35, 'x_rna_kl': 0.012, 'x_rna_elbo': 0.361, 'x_atac_nll': 0.196, 'x_atac_kl': 0.003, 'x_atac_elbo': 0.199, 'dsc_loss': 0.691, 'vae_loss': 0.609, 'gen_loss': 0.575, 'joint_cross_loss': 0.546, 'real_cross_loss': 0.559, 'cos_loss': 0.308}, 4.6s elapsed\n"
     ]
    },
    {
     "name": "stderr",
     "output_type": "stream",
     "text": [
      "INFO:PairedSCGLUETrainer:[Epoch 10] train={'g_nll': 0.51, 'g_kl': 0.011, 'g_elbo': 0.521, 'x_rna_nll': 0.352, 'x_rna_kl': 0.013, 'x_rna_elbo': 0.365, 'x_atac_nll': 0.198, 'x_atac_kl': 0.003, 'x_atac_elbo': 0.2, 'dsc_loss': 0.691, 'vae_loss': 0.614, 'gen_loss': 0.579, 'joint_cross_loss': 0.548, 'real_cross_loss': 0.56, 'cos_loss': 0.3}, val={'g_nll': 0.504, 'g_kl': 0.012, 'g_elbo': 0.516, 'x_rna_nll': 0.35, 'x_rna_kl': 0.012, 'x_rna_elbo': 0.361, 'x_atac_nll': 0.196, 'x_atac_kl': 0.003, 'x_atac_elbo': 0.199, 'dsc_loss': 0.691, 'vae_loss': 0.609, 'gen_loss': 0.575, 'joint_cross_loss': 0.546, 'real_cross_loss': 0.559, 'cos_loss': 0.308}, 4.6s elapsed\n"
     ]
    },
    {
     "name": "stdout",
     "output_type": "stream",
     "text": [
      "[INFO] PairedSCGLUETrainer: [Epoch 20] train={'g_nll': 0.472, 'g_kl': 0.013, 'g_elbo': 0.485, 'x_rna_nll': 0.344, 'x_rna_kl': 0.012, 'x_rna_elbo': 0.355, 'x_atac_nll': 0.19, 'x_atac_kl': 0.002, 'x_atac_elbo': 0.193, 'dsc_loss': 0.691, 'vae_loss': 0.596, 'gen_loss': 0.561, 'joint_cross_loss': 0.534, 'real_cross_loss': 0.545, 'cos_loss': 0.338}, val={'g_nll': 0.473, 'g_kl': 0.013, 'g_elbo': 0.486, 'x_rna_nll': 0.343, 'x_rna_kl': 0.011, 'x_rna_elbo': 0.354, 'x_atac_nll': 0.187, 'x_atac_kl': 0.002, 'x_atac_elbo': 0.19, 'dsc_loss': 0.693, 'vae_loss': 0.592, 'gen_loss': 0.557, 'joint_cross_loss': 0.531, 'real_cross_loss': 0.542, 'cos_loss': 0.339}, 4.3s elapsed\n"
     ]
    },
    {
     "name": "stderr",
     "output_type": "stream",
     "text": [
      "INFO:PairedSCGLUETrainer:[Epoch 20] train={'g_nll': 0.472, 'g_kl': 0.013, 'g_elbo': 0.485, 'x_rna_nll': 0.344, 'x_rna_kl': 0.012, 'x_rna_elbo': 0.355, 'x_atac_nll': 0.19, 'x_atac_kl': 0.002, 'x_atac_elbo': 0.193, 'dsc_loss': 0.691, 'vae_loss': 0.596, 'gen_loss': 0.561, 'joint_cross_loss': 0.534, 'real_cross_loss': 0.545, 'cos_loss': 0.338}, val={'g_nll': 0.473, 'g_kl': 0.013, 'g_elbo': 0.486, 'x_rna_nll': 0.343, 'x_rna_kl': 0.011, 'x_rna_elbo': 0.354, 'x_atac_nll': 0.187, 'x_atac_kl': 0.002, 'x_atac_elbo': 0.19, 'dsc_loss': 0.693, 'vae_loss': 0.592, 'gen_loss': 0.557, 'joint_cross_loss': 0.531, 'real_cross_loss': 0.542, 'cos_loss': 0.339}, 4.3s elapsed\n"
     ]
    },
    {
     "name": "stdout",
     "output_type": "stream",
     "text": [
      "[INFO] PairedSCGLUETrainer: [Epoch 30] train={'g_nll': 0.461, 'g_kl': 0.012, 'g_elbo': 0.473, 'x_rna_nll': 0.342, 'x_rna_kl': 0.012, 'x_rna_elbo': 0.353, 'x_atac_nll': 0.188, 'x_atac_kl': 0.002, 'x_atac_elbo': 0.19, 'dsc_loss': 0.691, 'vae_loss': 0.591, 'gen_loss': 0.556, 'joint_cross_loss': 0.53, 'real_cross_loss': 0.541, 'cos_loss': 0.337}, val={'g_nll': 0.459, 'g_kl': 0.012, 'g_elbo': 0.471, 'x_rna_nll': 0.341, 'x_rna_kl': 0.011, 'x_rna_elbo': 0.353, 'x_atac_nll': 0.187, 'x_atac_kl': 0.002, 'x_atac_elbo': 0.189, 'dsc_loss': 0.691, 'vae_loss': 0.589, 'gen_loss': 0.554, 'joint_cross_loss': 0.529, 'real_cross_loss': 0.541, 'cos_loss': 0.341}, 5.2s elapsed\n"
     ]
    },
    {
     "name": "stderr",
     "output_type": "stream",
     "text": [
      "INFO:PairedSCGLUETrainer:[Epoch 30] train={'g_nll': 0.461, 'g_kl': 0.012, 'g_elbo': 0.473, 'x_rna_nll': 0.342, 'x_rna_kl': 0.012, 'x_rna_elbo': 0.353, 'x_atac_nll': 0.188, 'x_atac_kl': 0.002, 'x_atac_elbo': 0.19, 'dsc_loss': 0.691, 'vae_loss': 0.591, 'gen_loss': 0.556, 'joint_cross_loss': 0.53, 'real_cross_loss': 0.541, 'cos_loss': 0.337}, val={'g_nll': 0.459, 'g_kl': 0.012, 'g_elbo': 0.471, 'x_rna_nll': 0.341, 'x_rna_kl': 0.011, 'x_rna_elbo': 0.353, 'x_atac_nll': 0.187, 'x_atac_kl': 0.002, 'x_atac_elbo': 0.189, 'dsc_loss': 0.691, 'vae_loss': 0.589, 'gen_loss': 0.554, 'joint_cross_loss': 0.529, 'real_cross_loss': 0.541, 'cos_loss': 0.341}, 5.2s elapsed\n"
     ]
    },
    {
     "name": "stdout",
     "output_type": "stream",
     "text": [
      "[INFO] PairedSCGLUETrainer: [Epoch 40] train={'g_nll': 0.454, 'g_kl': 0.012, 'g_elbo': 0.465, 'x_rna_nll': 0.34, 'x_rna_kl': 0.012, 'x_rna_elbo': 0.352, 'x_atac_nll': 0.188, 'x_atac_kl': 0.002, 'x_atac_elbo': 0.19, 'dsc_loss': 0.692, 'vae_loss': 0.589, 'gen_loss': 0.554, 'joint_cross_loss': 0.528, 'real_cross_loss': 0.539, 'cos_loss': 0.337}, val={'g_nll': 0.453, 'g_kl': 0.012, 'g_elbo': 0.464, 'x_rna_nll': 0.339, 'x_rna_kl': 0.012, 'x_rna_elbo': 0.351, 'x_atac_nll': 0.186, 'x_atac_kl': 0.002, 'x_atac_elbo': 0.188, 'dsc_loss': 0.695, 'vae_loss': 0.586, 'gen_loss': 0.551, 'joint_cross_loss': 0.526, 'real_cross_loss': 0.538, 'cos_loss': 0.334}, 4.3s elapsed\n"
     ]
    },
    {
     "name": "stderr",
     "output_type": "stream",
     "text": [
      "INFO:PairedSCGLUETrainer:[Epoch 40] train={'g_nll': 0.454, 'g_kl': 0.012, 'g_elbo': 0.465, 'x_rna_nll': 0.34, 'x_rna_kl': 0.012, 'x_rna_elbo': 0.352, 'x_atac_nll': 0.188, 'x_atac_kl': 0.002, 'x_atac_elbo': 0.19, 'dsc_loss': 0.692, 'vae_loss': 0.589, 'gen_loss': 0.554, 'joint_cross_loss': 0.528, 'real_cross_loss': 0.539, 'cos_loss': 0.337}, val={'g_nll': 0.453, 'g_kl': 0.012, 'g_elbo': 0.464, 'x_rna_nll': 0.339, 'x_rna_kl': 0.012, 'x_rna_elbo': 0.351, 'x_atac_nll': 0.186, 'x_atac_kl': 0.002, 'x_atac_elbo': 0.188, 'dsc_loss': 0.695, 'vae_loss': 0.586, 'gen_loss': 0.551, 'joint_cross_loss': 0.526, 'real_cross_loss': 0.538, 'cos_loss': 0.334}, 4.3s elapsed\n"
     ]
    },
    {
     "name": "stdout",
     "output_type": "stream",
     "text": [
      "[INFO] PairedSCGLUETrainer: [Epoch 50] train={'g_nll': 0.448, 'g_kl': 0.011, 'g_elbo': 0.46, 'x_rna_nll': 0.34, 'x_rna_kl': 0.012, 'x_rna_elbo': 0.352, 'x_atac_nll': 0.188, 'x_atac_kl': 0.002, 'x_atac_elbo': 0.19, 'dsc_loss': 0.693, 'vae_loss': 0.588, 'gen_loss': 0.553, 'joint_cross_loss': 0.528, 'real_cross_loss': 0.539, 'cos_loss': 0.335}, val={'g_nll': 0.45, 'g_kl': 0.011, 'g_elbo': 0.461, 'x_rna_nll': 0.339, 'x_rna_kl': 0.011, 'x_rna_elbo': 0.35, 'x_atac_nll': 0.186, 'x_atac_kl': 0.002, 'x_atac_elbo': 0.188, 'dsc_loss': 0.691, 'vae_loss': 0.585, 'gen_loss': 0.55, 'joint_cross_loss': 0.526, 'real_cross_loss': 0.538, 'cos_loss': 0.336}, 4.4s elapsed\n"
     ]
    },
    {
     "name": "stderr",
     "output_type": "stream",
     "text": [
      "INFO:PairedSCGLUETrainer:[Epoch 50] train={'g_nll': 0.448, 'g_kl': 0.011, 'g_elbo': 0.46, 'x_rna_nll': 0.34, 'x_rna_kl': 0.012, 'x_rna_elbo': 0.352, 'x_atac_nll': 0.188, 'x_atac_kl': 0.002, 'x_atac_elbo': 0.19, 'dsc_loss': 0.693, 'vae_loss': 0.588, 'gen_loss': 0.553, 'joint_cross_loss': 0.528, 'real_cross_loss': 0.539, 'cos_loss': 0.335}, val={'g_nll': 0.45, 'g_kl': 0.011, 'g_elbo': 0.461, 'x_rna_nll': 0.339, 'x_rna_kl': 0.011, 'x_rna_elbo': 0.35, 'x_atac_nll': 0.186, 'x_atac_kl': 0.002, 'x_atac_elbo': 0.188, 'dsc_loss': 0.691, 'vae_loss': 0.585, 'gen_loss': 0.55, 'joint_cross_loss': 0.526, 'real_cross_loss': 0.538, 'cos_loss': 0.336}, 4.4s elapsed\n"
     ]
    },
    {
     "name": "stdout",
     "output_type": "stream",
     "text": [
      "[INFO] PairedSCGLUETrainer: [Epoch 60] train={'g_nll': 0.444, 'g_kl': 0.011, 'g_elbo': 0.455, 'x_rna_nll': 0.339, 'x_rna_kl': 0.012, 'x_rna_elbo': 0.351, 'x_atac_nll': 0.187, 'x_atac_kl': 0.002, 'x_atac_elbo': 0.19, 'dsc_loss': 0.692, 'vae_loss': 0.587, 'gen_loss': 0.552, 'joint_cross_loss': 0.527, 'real_cross_loss': 0.538, 'cos_loss': 0.334}, val={'g_nll': 0.445, 'g_kl': 0.011, 'g_elbo': 0.456, 'x_rna_nll': 0.338, 'x_rna_kl': 0.011, 'x_rna_elbo': 0.349, 'x_atac_nll': 0.185, 'x_atac_kl': 0.002, 'x_atac_elbo': 0.188, 'dsc_loss': 0.692, 'vae_loss': 0.583, 'gen_loss': 0.549, 'joint_cross_loss': 0.525, 'real_cross_loss': 0.537, 'cos_loss': 0.334}, 4.4s elapsed\n"
     ]
    },
    {
     "name": "stderr",
     "output_type": "stream",
     "text": [
      "INFO:PairedSCGLUETrainer:[Epoch 60] train={'g_nll': 0.444, 'g_kl': 0.011, 'g_elbo': 0.455, 'x_rna_nll': 0.339, 'x_rna_kl': 0.012, 'x_rna_elbo': 0.351, 'x_atac_nll': 0.187, 'x_atac_kl': 0.002, 'x_atac_elbo': 0.19, 'dsc_loss': 0.692, 'vae_loss': 0.587, 'gen_loss': 0.552, 'joint_cross_loss': 0.527, 'real_cross_loss': 0.538, 'cos_loss': 0.334}, val={'g_nll': 0.445, 'g_kl': 0.011, 'g_elbo': 0.456, 'x_rna_nll': 0.338, 'x_rna_kl': 0.011, 'x_rna_elbo': 0.349, 'x_atac_nll': 0.185, 'x_atac_kl': 0.002, 'x_atac_elbo': 0.188, 'dsc_loss': 0.692, 'vae_loss': 0.583, 'gen_loss': 0.549, 'joint_cross_loss': 0.525, 'real_cross_loss': 0.537, 'cos_loss': 0.334}, 4.4s elapsed\n"
     ]
    },
    {
     "name": "stdout",
     "output_type": "stream",
     "text": [
      "[INFO] PairedSCGLUETrainer: [Epoch 70] train={'g_nll': 0.443, 'g_kl': 0.011, 'g_elbo': 0.453, 'x_rna_nll': 0.339, 'x_rna_kl': 0.012, 'x_rna_elbo': 0.35, 'x_atac_nll': 0.187, 'x_atac_kl': 0.002, 'x_atac_elbo': 0.19, 'dsc_loss': 0.692, 'vae_loss': 0.586, 'gen_loss': 0.551, 'joint_cross_loss': 0.526, 'real_cross_loss': 0.537, 'cos_loss': 0.333}, val={'g_nll': 0.442, 'g_kl': 0.011, 'g_elbo': 0.453, 'x_rna_nll': 0.339, 'x_rna_kl': 0.011, 'x_rna_elbo': 0.35, 'x_atac_nll': 0.187, 'x_atac_kl': 0.002, 'x_atac_elbo': 0.189, 'dsc_loss': 0.692, 'vae_loss': 0.585, 'gen_loss': 0.55, 'joint_cross_loss': 0.526, 'real_cross_loss': 0.539, 'cos_loss': 0.332}, 5.5s elapsed\n"
     ]
    },
    {
     "name": "stderr",
     "output_type": "stream",
     "text": [
      "INFO:PairedSCGLUETrainer:[Epoch 70] train={'g_nll': 0.443, 'g_kl': 0.011, 'g_elbo': 0.453, 'x_rna_nll': 0.339, 'x_rna_kl': 0.012, 'x_rna_elbo': 0.35, 'x_atac_nll': 0.187, 'x_atac_kl': 0.002, 'x_atac_elbo': 0.19, 'dsc_loss': 0.692, 'vae_loss': 0.586, 'gen_loss': 0.551, 'joint_cross_loss': 0.526, 'real_cross_loss': 0.537, 'cos_loss': 0.333}, val={'g_nll': 0.442, 'g_kl': 0.011, 'g_elbo': 0.453, 'x_rna_nll': 0.339, 'x_rna_kl': 0.011, 'x_rna_elbo': 0.35, 'x_atac_nll': 0.187, 'x_atac_kl': 0.002, 'x_atac_elbo': 0.189, 'dsc_loss': 0.692, 'vae_loss': 0.585, 'gen_loss': 0.55, 'joint_cross_loss': 0.526, 'real_cross_loss': 0.539, 'cos_loss': 0.332}, 5.5s elapsed\n"
     ]
    },
    {
     "name": "stdout",
     "output_type": "stream",
     "text": [
      "[INFO] LRScheduler: Learning rate reduction: step 1\n"
     ]
    },
    {
     "name": "stderr",
     "output_type": "stream",
     "text": [
      "INFO:LRScheduler:Learning rate reduction: step 1\n"
     ]
    },
    {
     "name": "stdout",
     "output_type": "stream",
     "text": [
      "[INFO] PairedSCGLUETrainer: [Epoch 80] train={'g_nll': 0.44, 'g_kl': 0.011, 'g_elbo': 0.451, 'x_rna_nll': 0.337, 'x_rna_kl': 0.012, 'x_rna_elbo': 0.349, 'x_atac_nll': 0.187, 'x_atac_kl': 0.002, 'x_atac_elbo': 0.189, 'dsc_loss': 0.691, 'vae_loss': 0.584, 'gen_loss': 0.55, 'joint_cross_loss': 0.525, 'real_cross_loss': 0.536, 'cos_loss': 0.33}, val={'g_nll': 0.441, 'g_kl': 0.011, 'g_elbo': 0.451, 'x_rna_nll': 0.337, 'x_rna_kl': 0.011, 'x_rna_elbo': 0.348, 'x_atac_nll': 0.186, 'x_atac_kl': 0.002, 'x_atac_elbo': 0.188, 'dsc_loss': 0.689, 'vae_loss': 0.582, 'gen_loss': 0.548, 'joint_cross_loss': 0.524, 'real_cross_loss': 0.536, 'cos_loss': 0.327}, 4.4s elapsed\n"
     ]
    },
    {
     "name": "stderr",
     "output_type": "stream",
     "text": [
      "INFO:PairedSCGLUETrainer:[Epoch 80] train={'g_nll': 0.44, 'g_kl': 0.011, 'g_elbo': 0.451, 'x_rna_nll': 0.337, 'x_rna_kl': 0.012, 'x_rna_elbo': 0.349, 'x_atac_nll': 0.187, 'x_atac_kl': 0.002, 'x_atac_elbo': 0.189, 'dsc_loss': 0.691, 'vae_loss': 0.584, 'gen_loss': 0.55, 'joint_cross_loss': 0.525, 'real_cross_loss': 0.536, 'cos_loss': 0.33}, val={'g_nll': 0.441, 'g_kl': 0.011, 'g_elbo': 0.451, 'x_rna_nll': 0.337, 'x_rna_kl': 0.011, 'x_rna_elbo': 0.348, 'x_atac_nll': 0.186, 'x_atac_kl': 0.002, 'x_atac_elbo': 0.188, 'dsc_loss': 0.689, 'vae_loss': 0.582, 'gen_loss': 0.548, 'joint_cross_loss': 0.524, 'real_cross_loss': 0.536, 'cos_loss': 0.327}, 4.4s elapsed\n"
     ]
    },
    {
     "name": "stdout",
     "output_type": "stream",
     "text": [
      "[INFO] PairedSCGLUETrainer: [Epoch 90] train={'g_nll': 0.44, 'g_kl': 0.011, 'g_elbo': 0.45, 'x_rna_nll': 0.337, 'x_rna_kl': 0.012, 'x_rna_elbo': 0.349, 'x_atac_nll': 0.187, 'x_atac_kl': 0.002, 'x_atac_elbo': 0.189, 'dsc_loss': 0.692, 'vae_loss': 0.584, 'gen_loss': 0.549, 'joint_cross_loss': 0.524, 'real_cross_loss': 0.535, 'cos_loss': 0.329}, val={'g_nll': 0.44, 'g_kl': 0.011, 'g_elbo': 0.45, 'x_rna_nll': 0.337, 'x_rna_kl': 0.011, 'x_rna_elbo': 0.348, 'x_atac_nll': 0.186, 'x_atac_kl': 0.002, 'x_atac_elbo': 0.188, 'dsc_loss': 0.692, 'vae_loss': 0.583, 'gen_loss': 0.548, 'joint_cross_loss': 0.525, 'real_cross_loss': 0.536, 'cos_loss': 0.332}, 4.6s elapsed\n"
     ]
    },
    {
     "name": "stderr",
     "output_type": "stream",
     "text": [
      "INFO:PairedSCGLUETrainer:[Epoch 90] train={'g_nll': 0.44, 'g_kl': 0.011, 'g_elbo': 0.45, 'x_rna_nll': 0.337, 'x_rna_kl': 0.012, 'x_rna_elbo': 0.349, 'x_atac_nll': 0.187, 'x_atac_kl': 0.002, 'x_atac_elbo': 0.189, 'dsc_loss': 0.692, 'vae_loss': 0.584, 'gen_loss': 0.549, 'joint_cross_loss': 0.524, 'real_cross_loss': 0.535, 'cos_loss': 0.329}, val={'g_nll': 0.44, 'g_kl': 0.011, 'g_elbo': 0.45, 'x_rna_nll': 0.337, 'x_rna_kl': 0.011, 'x_rna_elbo': 0.348, 'x_atac_nll': 0.186, 'x_atac_kl': 0.002, 'x_atac_elbo': 0.188, 'dsc_loss': 0.692, 'vae_loss': 0.583, 'gen_loss': 0.548, 'joint_cross_loss': 0.525, 'real_cross_loss': 0.536, 'cos_loss': 0.332}, 4.6s elapsed\n"
     ]
    },
    {
     "name": "stdout",
     "output_type": "stream",
     "text": [
      "[INFO] LRScheduler: Learning rate reduction: step 2\n"
     ]
    },
    {
     "name": "stderr",
     "output_type": "stream",
     "text": [
      "INFO:LRScheduler:Learning rate reduction: step 2\n"
     ]
    },
    {
     "name": "stdout",
     "output_type": "stream",
     "text": [
      "[INFO] PairedSCGLUETrainer: [Epoch 100] train={'g_nll': 0.44, 'g_kl': 0.011, 'g_elbo': 0.45, 'x_rna_nll': 0.337, 'x_rna_kl': 0.012, 'x_rna_elbo': 0.349, 'x_atac_nll': 0.187, 'x_atac_kl': 0.002, 'x_atac_elbo': 0.189, 'dsc_loss': 0.692, 'vae_loss': 0.584, 'gen_loss': 0.549, 'joint_cross_loss': 0.524, 'real_cross_loss': 0.535, 'cos_loss': 0.328}, val={'g_nll': 0.439, 'g_kl': 0.011, 'g_elbo': 0.45, 'x_rna_nll': 0.336, 'x_rna_kl': 0.011, 'x_rna_elbo': 0.348, 'x_atac_nll': 0.187, 'x_atac_kl': 0.002, 'x_atac_elbo': 0.189, 'dsc_loss': 0.69, 'vae_loss': 0.583, 'gen_loss': 0.548, 'joint_cross_loss': 0.525, 'real_cross_loss': 0.537, 'cos_loss': 0.329}, 5.2s elapsed\n"
     ]
    },
    {
     "name": "stderr",
     "output_type": "stream",
     "text": [
      "INFO:PairedSCGLUETrainer:[Epoch 100] train={'g_nll': 0.44, 'g_kl': 0.011, 'g_elbo': 0.45, 'x_rna_nll': 0.337, 'x_rna_kl': 0.012, 'x_rna_elbo': 0.349, 'x_atac_nll': 0.187, 'x_atac_kl': 0.002, 'x_atac_elbo': 0.189, 'dsc_loss': 0.692, 'vae_loss': 0.584, 'gen_loss': 0.549, 'joint_cross_loss': 0.524, 'real_cross_loss': 0.535, 'cos_loss': 0.328}, val={'g_nll': 0.439, 'g_kl': 0.011, 'g_elbo': 0.45, 'x_rna_nll': 0.336, 'x_rna_kl': 0.011, 'x_rna_elbo': 0.348, 'x_atac_nll': 0.187, 'x_atac_kl': 0.002, 'x_atac_elbo': 0.189, 'dsc_loss': 0.69, 'vae_loss': 0.583, 'gen_loss': 0.548, 'joint_cross_loss': 0.525, 'real_cross_loss': 0.537, 'cos_loss': 0.329}, 5.2s elapsed\n"
     ]
    },
    {
     "name": "stdout",
     "output_type": "stream",
     "text": [
      "[INFO] PairedSCGLUETrainer: [Epoch 110] train={'g_nll': 0.44, 'g_kl': 0.011, 'g_elbo': 0.45, 'x_rna_nll': 0.337, 'x_rna_kl': 0.012, 'x_rna_elbo': 0.349, 'x_atac_nll': 0.187, 'x_atac_kl': 0.002, 'x_atac_elbo': 0.189, 'dsc_loss': 0.691, 'vae_loss': 0.584, 'gen_loss': 0.549, 'joint_cross_loss': 0.524, 'real_cross_loss': 0.535, 'cos_loss': 0.328}, val={'g_nll': 0.44, 'g_kl': 0.011, 'g_elbo': 0.45, 'x_rna_nll': 0.337, 'x_rna_kl': 0.011, 'x_rna_elbo': 0.348, 'x_atac_nll': 0.186, 'x_atac_kl': 0.002, 'x_atac_elbo': 0.189, 'dsc_loss': 0.69, 'vae_loss': 0.583, 'gen_loss': 0.548, 'joint_cross_loss': 0.525, 'real_cross_loss': 0.537, 'cos_loss': 0.328}, 4.4s elapsed\n"
     ]
    },
    {
     "name": "stderr",
     "output_type": "stream",
     "text": [
      "INFO:PairedSCGLUETrainer:[Epoch 110] train={'g_nll': 0.44, 'g_kl': 0.011, 'g_elbo': 0.45, 'x_rna_nll': 0.337, 'x_rna_kl': 0.012, 'x_rna_elbo': 0.349, 'x_atac_nll': 0.187, 'x_atac_kl': 0.002, 'x_atac_elbo': 0.189, 'dsc_loss': 0.691, 'vae_loss': 0.584, 'gen_loss': 0.549, 'joint_cross_loss': 0.524, 'real_cross_loss': 0.535, 'cos_loss': 0.328}, val={'g_nll': 0.44, 'g_kl': 0.011, 'g_elbo': 0.45, 'x_rna_nll': 0.337, 'x_rna_kl': 0.011, 'x_rna_elbo': 0.348, 'x_atac_nll': 0.186, 'x_atac_kl': 0.002, 'x_atac_elbo': 0.189, 'dsc_loss': 0.69, 'vae_loss': 0.583, 'gen_loss': 0.548, 'joint_cross_loss': 0.525, 'real_cross_loss': 0.537, 'cos_loss': 0.328}, 4.4s elapsed\n"
     ]
    },
    {
     "name": "stdout",
     "output_type": "stream",
     "text": [
      "[INFO] LRScheduler: Learning rate reduction: step 3\n"
     ]
    },
    {
     "name": "stderr",
     "output_type": "stream",
     "text": [
      "INFO:LRScheduler:Learning rate reduction: step 3\n"
     ]
    },
    {
     "name": "stdout",
     "output_type": "stream",
     "text": [
      "[INFO] PairedSCGLUETrainer: [Epoch 120] train={'g_nll': 0.44, 'g_kl': 0.011, 'g_elbo': 0.451, 'x_rna_nll': 0.337, 'x_rna_kl': 0.012, 'x_rna_elbo': 0.348, 'x_atac_nll': 0.187, 'x_atac_kl': 0.002, 'x_atac_elbo': 0.189, 'dsc_loss': 0.691, 'vae_loss': 0.584, 'gen_loss': 0.549, 'joint_cross_loss': 0.524, 'real_cross_loss': 0.535, 'cos_loss': 0.329}, val={'g_nll': 0.439, 'g_kl': 0.011, 'g_elbo': 0.45, 'x_rna_nll': 0.338, 'x_rna_kl': 0.011, 'x_rna_elbo': 0.35, 'x_atac_nll': 0.186, 'x_atac_kl': 0.002, 'x_atac_elbo': 0.189, 'dsc_loss': 0.69, 'vae_loss': 0.584, 'gen_loss': 0.55, 'joint_cross_loss': 0.526, 'real_cross_loss': 0.538, 'cos_loss': 0.332}, 4.4s elapsed\n"
     ]
    },
    {
     "name": "stderr",
     "output_type": "stream",
     "text": [
      "INFO:PairedSCGLUETrainer:[Epoch 120] train={'g_nll': 0.44, 'g_kl': 0.011, 'g_elbo': 0.451, 'x_rna_nll': 0.337, 'x_rna_kl': 0.012, 'x_rna_elbo': 0.348, 'x_atac_nll': 0.187, 'x_atac_kl': 0.002, 'x_atac_elbo': 0.189, 'dsc_loss': 0.691, 'vae_loss': 0.584, 'gen_loss': 0.549, 'joint_cross_loss': 0.524, 'real_cross_loss': 0.535, 'cos_loss': 0.329}, val={'g_nll': 0.439, 'g_kl': 0.011, 'g_elbo': 0.45, 'x_rna_nll': 0.338, 'x_rna_kl': 0.011, 'x_rna_elbo': 0.35, 'x_atac_nll': 0.186, 'x_atac_kl': 0.002, 'x_atac_elbo': 0.189, 'dsc_loss': 0.69, 'vae_loss': 0.584, 'gen_loss': 0.55, 'joint_cross_loss': 0.526, 'real_cross_loss': 0.538, 'cos_loss': 0.332}, 4.4s elapsed\n",
      "2024-12-06 06:59:14,496 ignite.handlers.early_stopping.EarlyStopping INFO: EarlyStopping: Stop training\n"
     ]
    },
    {
     "name": "stdout",
     "output_type": "stream",
     "text": [
      "[INFO] EarlyStopping: Restoring checkpoint \"116\"...\n"
     ]
    },
    {
     "name": "stderr",
     "output_type": "stream",
     "text": [
      "INFO:EarlyStopping:Restoring checkpoint \"116\"...\n"
     ]
    },
    {
     "name": "stdout",
     "output_type": "stream",
     "text": [
      "[INFO] EarlyStopping: Restoring checkpoint \"116\"...\n"
     ]
    },
    {
     "name": "stderr",
     "output_type": "stream",
     "text": [
      "/usr/local/lib/python3.10/dist-packages/scglue/models/plugins.py:145: FutureWarning: You are using `torch.load` with `weights_only=False` (the current default value), which uses the default pickle module implicitly. It is possible to construct malicious pickle data which will execute arbitrary code during unpickling (See https://github.com/pytorch/pytorch/blob/main/SECURITY.md#untrusted-models for more details). In a future release, the default value for `weights_only` will be flipped to `True`. This limits the functions that could be executed during unpickling. Arbitrary objects will no longer be allowed to be loaded via this mode unless they are explicitly allowlisted by the user via `torch.serialization.add_safe_globals`. We recommend you start setting `weights_only=True` for any use case where you don't have full control of the loaded file. Please open an issue on GitHub for any issues related to this experimental feature.\n",
      "  loaded = torch.load(directory / f\"checkpoint_{ckpts[0]}.pt\")\n",
      "INFO:EarlyStopping:Restoring checkpoint \"116\"...\n",
      "DEBUG:GraphDataset:Joined background process: 1893\n"
     ]
    },
    {
     "name": "stdout",
     "output_type": "stream",
     "text": [
      "[INFO] fit_SCGLUE: Estimating balancing weight...\n"
     ]
    },
    {
     "name": "stderr",
     "output_type": "stream",
     "text": [
      "INFO:fit_SCGLUE:Estimating balancing weight...\n"
     ]
    },
    {
     "name": "stdout",
     "output_type": "stream",
     "text": [
      "[INFO] estimate_balancing_weight: Clustering cells...\n"
     ]
    },
    {
     "name": "stderr",
     "output_type": "stream",
     "text": [
      "INFO:estimate_balancing_weight:Clustering cells...\n",
      "/usr/local/lib/python3.10/dist-packages/scglue/data.py:469: FutureWarning: In the future, the default backend for leiden will be igraph instead of leidenalg.\n",
      "\n",
      " To achieve the future defaults please pass: flavor=\"igraph\" and n_iterations=2.  directed must also be False to work with igraph's implementation.\n",
      "  sc.tl.leiden(adata_, resolution=resolution)\n"
     ]
    },
    {
     "name": "stdout",
     "output_type": "stream",
     "text": [
      "[INFO] estimate_balancing_weight: Matching clusters...\n"
     ]
    },
    {
     "name": "stderr",
     "output_type": "stream",
     "text": [
      "INFO:estimate_balancing_weight:Matching clusters...\n"
     ]
    },
    {
     "name": "stdout",
     "output_type": "stream",
     "text": [
      "[INFO] estimate_balancing_weight: Matching array shape = (22, 26)...\n"
     ]
    },
    {
     "name": "stderr",
     "output_type": "stream",
     "text": [
      "INFO:estimate_balancing_weight:Matching array shape = (22, 26)...\n"
     ]
    },
    {
     "name": "stdout",
     "output_type": "stream",
     "text": [
      "[INFO] estimate_balancing_weight: Estimating balancing weight...\n"
     ]
    },
    {
     "name": "stderr",
     "output_type": "stream",
     "text": [
      "INFO:estimate_balancing_weight:Estimating balancing weight...\n"
     ]
    },
    {
     "name": "stdout",
     "output_type": "stream",
     "text": [
      "[INFO] fit_SCGLUE: Fine-tuning SCGLUE model...\n"
     ]
    },
    {
     "name": "stderr",
     "output_type": "stream",
     "text": [
      "INFO:fit_SCGLUE:Fine-tuning SCGLUE model...\n",
      "DEBUG:PairedSCGLUEModel:Copied: g2v.vrepr\n",
      "DEBUG:PairedSCGLUEModel:Copied: g2v.loc.weight\n",
      "DEBUG:PairedSCGLUEModel:Copied: g2v.loc.bias\n",
      "DEBUG:PairedSCGLUEModel:Copied: g2v.std_lin.weight\n",
      "DEBUG:PairedSCGLUEModel:Copied: g2v.std_lin.bias\n",
      "DEBUG:PairedSCGLUEModel:Copied: x2u.rna.linear_0.weight\n",
      "DEBUG:PairedSCGLUEModel:Copied: x2u.rna.linear_0.bias\n",
      "DEBUG:PairedSCGLUEModel:Copied: x2u.rna.bn_0.weight\n",
      "DEBUG:PairedSCGLUEModel:Copied: x2u.rna.bn_0.bias\n",
      "DEBUG:PairedSCGLUEModel:Copied: x2u.rna.linear_1.weight\n",
      "DEBUG:PairedSCGLUEModel:Copied: x2u.rna.linear_1.bias\n",
      "DEBUG:PairedSCGLUEModel:Copied: x2u.rna.bn_1.weight\n",
      "DEBUG:PairedSCGLUEModel:Copied: x2u.rna.bn_1.bias\n",
      "DEBUG:PairedSCGLUEModel:Copied: x2u.rna.loc.weight\n",
      "DEBUG:PairedSCGLUEModel:Copied: x2u.rna.loc.bias\n",
      "DEBUG:PairedSCGLUEModel:Copied: x2u.rna.std_lin.weight\n",
      "DEBUG:PairedSCGLUEModel:Copied: x2u.rna.std_lin.bias\n",
      "DEBUG:PairedSCGLUEModel:Copied: x2u.atac.linear_0.weight\n",
      "DEBUG:PairedSCGLUEModel:Copied: x2u.atac.linear_0.bias\n",
      "DEBUG:PairedSCGLUEModel:Copied: x2u.atac.bn_0.weight\n",
      "DEBUG:PairedSCGLUEModel:Copied: x2u.atac.bn_0.bias\n",
      "DEBUG:PairedSCGLUEModel:Copied: x2u.atac.linear_1.weight\n",
      "DEBUG:PairedSCGLUEModel:Copied: x2u.atac.linear_1.bias\n",
      "DEBUG:PairedSCGLUEModel:Copied: x2u.atac.bn_1.weight\n",
      "DEBUG:PairedSCGLUEModel:Copied: x2u.atac.bn_1.bias\n",
      "DEBUG:PairedSCGLUEModel:Copied: x2u.atac.loc.weight\n",
      "DEBUG:PairedSCGLUEModel:Copied: x2u.atac.loc.bias\n",
      "DEBUG:PairedSCGLUEModel:Copied: x2u.atac.std_lin.weight\n",
      "DEBUG:PairedSCGLUEModel:Copied: x2u.atac.std_lin.bias\n",
      "DEBUG:PairedSCGLUEModel:Copied: u2x.rna.scale_lin\n",
      "DEBUG:PairedSCGLUEModel:Copied: u2x.rna.bias\n",
      "DEBUG:PairedSCGLUEModel:Copied: u2x.rna.log_theta\n",
      "DEBUG:PairedSCGLUEModel:Copied: u2x.atac.scale_lin\n",
      "DEBUG:PairedSCGLUEModel:Copied: u2x.atac.bias\n",
      "DEBUG:PairedSCGLUEModel:Copied: u2x.atac.log_theta\n",
      "DEBUG:PairedSCGLUEModel:Copied: du.linear_0.weight\n",
      "DEBUG:PairedSCGLUEModel:Copied: du.linear_0.bias\n",
      "DEBUG:PairedSCGLUEModel:Copied: du.linear_1.weight\n",
      "DEBUG:PairedSCGLUEModel:Copied: du.linear_1.bias\n",
      "DEBUG:PairedSCGLUEModel:Copied: du.pred.weight\n",
      "DEBUG:PairedSCGLUEModel:Copied: du.pred.bias\n",
      "DEBUG:PairedSCGLUEModel:Copied: rna_idx\n",
      "DEBUG:PairedSCGLUEModel:Copied: atac_idx\n",
      "DEBUG:PairedSCGLUEModel:Copied: x2u.rna.bn_0.running_mean\n",
      "DEBUG:PairedSCGLUEModel:Copied: x2u.rna.bn_0.running_var\n",
      "DEBUG:PairedSCGLUEModel:Copied: x2u.rna.bn_0.num_batches_tracked\n",
      "DEBUG:PairedSCGLUEModel:Copied: x2u.rna.bn_1.running_mean\n",
      "DEBUG:PairedSCGLUEModel:Copied: x2u.rna.bn_1.running_var\n",
      "DEBUG:PairedSCGLUEModel:Copied: x2u.rna.bn_1.num_batches_tracked\n",
      "DEBUG:PairedSCGLUEModel:Copied: x2u.atac.bn_0.running_mean\n",
      "DEBUG:PairedSCGLUEModel:Copied: x2u.atac.bn_0.running_var\n",
      "DEBUG:PairedSCGLUEModel:Copied: x2u.atac.bn_0.num_batches_tracked\n",
      "DEBUG:PairedSCGLUEModel:Copied: x2u.atac.bn_1.running_mean\n",
      "DEBUG:PairedSCGLUEModel:Copied: x2u.atac.bn_1.running_var\n",
      "DEBUG:PairedSCGLUEModel:Copied: x2u.atac.bn_1.num_batches_tracked\n",
      "DEBUG:PairedSCGLUEModel:Copied: prior.loc\n",
      "DEBUG:PairedSCGLUEModel:Copied: prior.std\n",
      "DEBUG:fit_SCGLUE:Increasing random seed by 1 to prevent idential data order...\n"
     ]
    },
    {
     "name": "stdout",
     "output_type": "stream",
     "text": [
      "[INFO] check_graph: Checking variable coverage...\n"
     ]
    },
    {
     "name": "stderr",
     "output_type": "stream",
     "text": [
      "INFO:check_graph:Checking variable coverage...\n"
     ]
    },
    {
     "name": "stdout",
     "output_type": "stream",
     "text": [
      "[INFO] check_graph: Checking edge attributes...\n"
     ]
    },
    {
     "name": "stderr",
     "output_type": "stream",
     "text": [
      "INFO:check_graph:Checking edge attributes...\n"
     ]
    },
    {
     "name": "stdout",
     "output_type": "stream",
     "text": [
      "[INFO] check_graph: Checking self-loops...\n"
     ]
    },
    {
     "name": "stderr",
     "output_type": "stream",
     "text": [
      "INFO:check_graph:Checking self-loops...\n"
     ]
    },
    {
     "name": "stdout",
     "output_type": "stream",
     "text": [
      "[INFO] check_graph: Checking graph symmetry...\n"
     ]
    },
    {
     "name": "stderr",
     "output_type": "stream",
     "text": [
      "INFO:check_graph:Checking graph symmetry...\n"
     ]
    },
    {
     "name": "stdout",
     "output_type": "stream",
     "text": [
      "[INFO] PairedSCGLUEModel: Setting `graph_batch_size` = 13031\n"
     ]
    },
    {
     "name": "stderr",
     "output_type": "stream",
     "text": [
      "INFO:PairedSCGLUEModel:Setting `graph_batch_size` = 13031\n"
     ]
    },
    {
     "name": "stdout",
     "output_type": "stream",
     "text": [
      "[INFO] PairedSCGLUEModel: Setting `align_burnin` = 48\n"
     ]
    },
    {
     "name": "stderr",
     "output_type": "stream",
     "text": [
      "INFO:PairedSCGLUEModel:Setting `align_burnin` = 48\n"
     ]
    },
    {
     "name": "stdout",
     "output_type": "stream",
     "text": [
      "[INFO] PairedSCGLUEModel: Setting `max_epochs` = 285\n"
     ]
    },
    {
     "name": "stderr",
     "output_type": "stream",
     "text": [
      "INFO:PairedSCGLUEModel:Setting `max_epochs` = 285\n"
     ]
    },
    {
     "name": "stdout",
     "output_type": "stream",
     "text": [
      "[INFO] PairedSCGLUEModel: Setting `patience` = 24\n"
     ]
    },
    {
     "name": "stderr",
     "output_type": "stream",
     "text": [
      "INFO:PairedSCGLUEModel:Setting `patience` = 24\n"
     ]
    },
    {
     "name": "stdout",
     "output_type": "stream",
     "text": [
      "[INFO] PairedSCGLUEModel: Setting `reduce_lr_patience` = 12\n"
     ]
    },
    {
     "name": "stderr",
     "output_type": "stream",
     "text": [
      "INFO:PairedSCGLUEModel:Setting `reduce_lr_patience` = 12\n",
      "DEBUG:GraphDataset:Started background process: 4806\n"
     ]
    },
    {
     "name": "stdout",
     "output_type": "stream",
     "text": [
      "[INFO] PairedSCGLUETrainer: Using training directory: \"glue/fine-tune\"\n"
     ]
    },
    {
     "name": "stderr",
     "output_type": "stream",
     "text": [
      "/usr/local/lib/python3.10/dist-packages/torch/optim/lr_scheduler.py:62: UserWarning: The verbose parameter is deprecated. Please use get_last_lr() to access the learning rate.\n",
      "  warnings.warn(\n",
      "INFO:PairedSCGLUETrainer:Using training directory: \"glue/fine-tune\"\n"
     ]
    },
    {
     "name": "stdout",
     "output_type": "stream",
     "text": [
      "[INFO] PairedSCGLUETrainer: [Epoch 10] train={'g_nll': 0.438, 'g_kl': 0.01, 'g_elbo': 0.448, 'x_rna_nll': 0.339, 'x_rna_kl': 0.011, 'x_rna_elbo': 0.35, 'x_atac_nll': 0.186, 'x_atac_kl': 0.002, 'x_atac_elbo': 0.189, 'dsc_loss': 0.693, 'vae_loss': 0.585, 'gen_loss': 0.55, 'joint_cross_loss': 0.526, 'real_cross_loss': 0.537, 'cos_loss': 0.332}, val={'g_nll': 0.439, 'g_kl': 0.01, 'g_elbo': 0.449, 'x_rna_nll': 0.34, 'x_rna_kl': 0.011, 'x_rna_elbo': 0.351, 'x_atac_nll': 0.194, 'x_atac_kl': 0.002, 'x_atac_elbo': 0.196, 'dsc_loss': 0.679, 'vae_loss': 0.594, 'gen_loss': 0.56, 'joint_cross_loss': 0.535, 'real_cross_loss': 0.547, 'cos_loss': 0.332}, 4.5s elapsed\n"
     ]
    },
    {
     "name": "stderr",
     "output_type": "stream",
     "text": [
      "INFO:PairedSCGLUETrainer:[Epoch 10] train={'g_nll': 0.438, 'g_kl': 0.01, 'g_elbo': 0.448, 'x_rna_nll': 0.339, 'x_rna_kl': 0.011, 'x_rna_elbo': 0.35, 'x_atac_nll': 0.186, 'x_atac_kl': 0.002, 'x_atac_elbo': 0.189, 'dsc_loss': 0.693, 'vae_loss': 0.585, 'gen_loss': 0.55, 'joint_cross_loss': 0.526, 'real_cross_loss': 0.537, 'cos_loss': 0.332}, val={'g_nll': 0.439, 'g_kl': 0.01, 'g_elbo': 0.449, 'x_rna_nll': 0.34, 'x_rna_kl': 0.011, 'x_rna_elbo': 0.351, 'x_atac_nll': 0.194, 'x_atac_kl': 0.002, 'x_atac_elbo': 0.196, 'dsc_loss': 0.679, 'vae_loss': 0.594, 'gen_loss': 0.56, 'joint_cross_loss': 0.535, 'real_cross_loss': 0.547, 'cos_loss': 0.332}, 4.5s elapsed\n"
     ]
    },
    {
     "name": "stdout",
     "output_type": "stream",
     "text": [
      "[INFO] PairedSCGLUETrainer: [Epoch 20] train={'g_nll': 0.437, 'g_kl': 0.01, 'g_elbo': 0.448, 'x_rna_nll': 0.338, 'x_rna_kl': 0.011, 'x_rna_elbo': 0.35, 'x_atac_nll': 0.186, 'x_atac_kl': 0.002, 'x_atac_elbo': 0.189, 'dsc_loss': 0.692, 'vae_loss': 0.584, 'gen_loss': 0.55, 'joint_cross_loss': 0.525, 'real_cross_loss': 0.536, 'cos_loss': 0.333}, val={'g_nll': 0.436, 'g_kl': 0.01, 'g_elbo': 0.447, 'x_rna_nll': 0.339, 'x_rna_kl': 0.011, 'x_rna_elbo': 0.35, 'x_atac_nll': 0.194, 'x_atac_kl': 0.002, 'x_atac_elbo': 0.196, 'dsc_loss': 0.687, 'vae_loss': 0.592, 'gen_loss': 0.558, 'joint_cross_loss': 0.533, 'real_cross_loss': 0.545, 'cos_loss': 0.335}, 4.5s elapsed\n"
     ]
    },
    {
     "name": "stderr",
     "output_type": "stream",
     "text": [
      "INFO:PairedSCGLUETrainer:[Epoch 20] train={'g_nll': 0.437, 'g_kl': 0.01, 'g_elbo': 0.448, 'x_rna_nll': 0.338, 'x_rna_kl': 0.011, 'x_rna_elbo': 0.35, 'x_atac_nll': 0.186, 'x_atac_kl': 0.002, 'x_atac_elbo': 0.189, 'dsc_loss': 0.692, 'vae_loss': 0.584, 'gen_loss': 0.55, 'joint_cross_loss': 0.525, 'real_cross_loss': 0.536, 'cos_loss': 0.333}, val={'g_nll': 0.436, 'g_kl': 0.01, 'g_elbo': 0.447, 'x_rna_nll': 0.339, 'x_rna_kl': 0.011, 'x_rna_elbo': 0.35, 'x_atac_nll': 0.194, 'x_atac_kl': 0.002, 'x_atac_elbo': 0.196, 'dsc_loss': 0.687, 'vae_loss': 0.592, 'gen_loss': 0.558, 'joint_cross_loss': 0.533, 'real_cross_loss': 0.545, 'cos_loss': 0.335}, 4.5s elapsed\n"
     ]
    },
    {
     "name": "stdout",
     "output_type": "stream",
     "text": [
      "[INFO] PairedSCGLUETrainer: [Epoch 30] train={'g_nll': 0.436, 'g_kl': 0.01, 'g_elbo': 0.447, 'x_rna_nll': 0.338, 'x_rna_kl': 0.011, 'x_rna_elbo': 0.35, 'x_atac_nll': 0.186, 'x_atac_kl': 0.002, 'x_atac_elbo': 0.189, 'dsc_loss': 0.693, 'vae_loss': 0.584, 'gen_loss': 0.55, 'joint_cross_loss': 0.525, 'real_cross_loss': 0.535, 'cos_loss': 0.334}, val={'g_nll': 0.437, 'g_kl': 0.01, 'g_elbo': 0.447, 'x_rna_nll': 0.337, 'x_rna_kl': 0.011, 'x_rna_elbo': 0.349, 'x_atac_nll': 0.192, 'x_atac_kl': 0.002, 'x_atac_elbo': 0.194, 'dsc_loss': 0.684, 'vae_loss': 0.589, 'gen_loss': 0.555, 'joint_cross_loss': 0.531, 'real_cross_loss': 0.542, 'cos_loss': 0.333}, 5.0s elapsed\n"
     ]
    },
    {
     "name": "stderr",
     "output_type": "stream",
     "text": [
      "INFO:PairedSCGLUETrainer:[Epoch 30] train={'g_nll': 0.436, 'g_kl': 0.01, 'g_elbo': 0.447, 'x_rna_nll': 0.338, 'x_rna_kl': 0.011, 'x_rna_elbo': 0.35, 'x_atac_nll': 0.186, 'x_atac_kl': 0.002, 'x_atac_elbo': 0.189, 'dsc_loss': 0.693, 'vae_loss': 0.584, 'gen_loss': 0.55, 'joint_cross_loss': 0.525, 'real_cross_loss': 0.535, 'cos_loss': 0.334}, val={'g_nll': 0.437, 'g_kl': 0.01, 'g_elbo': 0.447, 'x_rna_nll': 0.337, 'x_rna_kl': 0.011, 'x_rna_elbo': 0.349, 'x_atac_nll': 0.192, 'x_atac_kl': 0.002, 'x_atac_elbo': 0.194, 'dsc_loss': 0.684, 'vae_loss': 0.589, 'gen_loss': 0.555, 'joint_cross_loss': 0.531, 'real_cross_loss': 0.542, 'cos_loss': 0.333}, 5.0s elapsed\n"
     ]
    },
    {
     "name": "stdout",
     "output_type": "stream",
     "text": [
      "[INFO] PairedSCGLUETrainer: [Epoch 40] train={'g_nll': 0.436, 'g_kl': 0.01, 'g_elbo': 0.446, 'x_rna_nll': 0.338, 'x_rna_kl': 0.011, 'x_rna_elbo': 0.35, 'x_atac_nll': 0.186, 'x_atac_kl': 0.002, 'x_atac_elbo': 0.189, 'dsc_loss': 0.691, 'vae_loss': 0.584, 'gen_loss': 0.55, 'joint_cross_loss': 0.525, 'real_cross_loss': 0.535, 'cos_loss': 0.336}, val={'g_nll': 0.437, 'g_kl': 0.01, 'g_elbo': 0.448, 'x_rna_nll': 0.336, 'x_rna_kl': 0.011, 'x_rna_elbo': 0.347, 'x_atac_nll': 0.192, 'x_atac_kl': 0.002, 'x_atac_elbo': 0.194, 'dsc_loss': 0.68, 'vae_loss': 0.588, 'gen_loss': 0.554, 'joint_cross_loss': 0.529, 'real_cross_loss': 0.541, 'cos_loss': 0.33}, 5.9s elapsed\n"
     ]
    },
    {
     "name": "stderr",
     "output_type": "stream",
     "text": [
      "INFO:PairedSCGLUETrainer:[Epoch 40] train={'g_nll': 0.436, 'g_kl': 0.01, 'g_elbo': 0.446, 'x_rna_nll': 0.338, 'x_rna_kl': 0.011, 'x_rna_elbo': 0.35, 'x_atac_nll': 0.186, 'x_atac_kl': 0.002, 'x_atac_elbo': 0.189, 'dsc_loss': 0.691, 'vae_loss': 0.584, 'gen_loss': 0.55, 'joint_cross_loss': 0.525, 'real_cross_loss': 0.535, 'cos_loss': 0.336}, val={'g_nll': 0.437, 'g_kl': 0.01, 'g_elbo': 0.448, 'x_rna_nll': 0.336, 'x_rna_kl': 0.011, 'x_rna_elbo': 0.347, 'x_atac_nll': 0.192, 'x_atac_kl': 0.002, 'x_atac_elbo': 0.194, 'dsc_loss': 0.68, 'vae_loss': 0.588, 'gen_loss': 0.554, 'joint_cross_loss': 0.529, 'real_cross_loss': 0.541, 'cos_loss': 0.33}, 5.9s elapsed\n"
     ]
    },
    {
     "name": "stdout",
     "output_type": "stream",
     "text": [
      "[INFO] PairedSCGLUETrainer: [Epoch 50] train={'g_nll': 0.436, 'g_kl': 0.01, 'g_elbo': 0.446, 'x_rna_nll': 0.338, 'x_rna_kl': 0.011, 'x_rna_elbo': 0.349, 'x_atac_nll': 0.186, 'x_atac_kl': 0.002, 'x_atac_elbo': 0.189, 'dsc_loss': 0.69, 'vae_loss': 0.584, 'gen_loss': 0.549, 'joint_cross_loss': 0.524, 'real_cross_loss': 0.535, 'cos_loss': 0.338}, val={'g_nll': 0.435, 'g_kl': 0.01, 'g_elbo': 0.445, 'x_rna_nll': 0.337, 'x_rna_kl': 0.011, 'x_rna_elbo': 0.349, 'x_atac_nll': 0.193, 'x_atac_kl': 0.002, 'x_atac_elbo': 0.195, 'dsc_loss': 0.684, 'vae_loss': 0.59, 'gen_loss': 0.556, 'joint_cross_loss': 0.532, 'real_cross_loss': 0.545, 'cos_loss': 0.334}, 4.6s elapsed\n"
     ]
    },
    {
     "name": "stderr",
     "output_type": "stream",
     "text": [
      "INFO:PairedSCGLUETrainer:[Epoch 50] train={'g_nll': 0.436, 'g_kl': 0.01, 'g_elbo': 0.446, 'x_rna_nll': 0.338, 'x_rna_kl': 0.011, 'x_rna_elbo': 0.349, 'x_atac_nll': 0.186, 'x_atac_kl': 0.002, 'x_atac_elbo': 0.189, 'dsc_loss': 0.69, 'vae_loss': 0.584, 'gen_loss': 0.549, 'joint_cross_loss': 0.524, 'real_cross_loss': 0.535, 'cos_loss': 0.338}, val={'g_nll': 0.435, 'g_kl': 0.01, 'g_elbo': 0.445, 'x_rna_nll': 0.337, 'x_rna_kl': 0.011, 'x_rna_elbo': 0.349, 'x_atac_nll': 0.193, 'x_atac_kl': 0.002, 'x_atac_elbo': 0.195, 'dsc_loss': 0.684, 'vae_loss': 0.59, 'gen_loss': 0.556, 'joint_cross_loss': 0.532, 'real_cross_loss': 0.545, 'cos_loss': 0.334}, 4.6s elapsed\n"
     ]
    },
    {
     "name": "stdout",
     "output_type": "stream",
     "text": [
      "[INFO] PairedSCGLUETrainer: [Epoch 60] train={'g_nll': 0.435, 'g_kl': 0.01, 'g_elbo': 0.445, 'x_rna_nll': 0.338, 'x_rna_kl': 0.011, 'x_rna_elbo': 0.349, 'x_atac_nll': 0.186, 'x_atac_kl': 0.002, 'x_atac_elbo': 0.189, 'dsc_loss': 0.689, 'vae_loss': 0.583, 'gen_loss': 0.549, 'joint_cross_loss': 0.524, 'real_cross_loss': 0.535, 'cos_loss': 0.337}, val={'g_nll': 0.434, 'g_kl': 0.01, 'g_elbo': 0.444, 'x_rna_nll': 0.34, 'x_rna_kl': 0.011, 'x_rna_elbo': 0.351, 'x_atac_nll': 0.194, 'x_atac_kl': 0.002, 'x_atac_elbo': 0.197, 'dsc_loss': 0.683, 'vae_loss': 0.593, 'gen_loss': 0.559, 'joint_cross_loss': 0.535, 'real_cross_loss': 0.547, 'cos_loss': 0.333}, 4.5s elapsed\n"
     ]
    },
    {
     "name": "stderr",
     "output_type": "stream",
     "text": [
      "INFO:PairedSCGLUETrainer:[Epoch 60] train={'g_nll': 0.435, 'g_kl': 0.01, 'g_elbo': 0.445, 'x_rna_nll': 0.338, 'x_rna_kl': 0.011, 'x_rna_elbo': 0.349, 'x_atac_nll': 0.186, 'x_atac_kl': 0.002, 'x_atac_elbo': 0.189, 'dsc_loss': 0.689, 'vae_loss': 0.583, 'gen_loss': 0.549, 'joint_cross_loss': 0.524, 'real_cross_loss': 0.535, 'cos_loss': 0.337}, val={'g_nll': 0.434, 'g_kl': 0.01, 'g_elbo': 0.444, 'x_rna_nll': 0.34, 'x_rna_kl': 0.011, 'x_rna_elbo': 0.351, 'x_atac_nll': 0.194, 'x_atac_kl': 0.002, 'x_atac_elbo': 0.197, 'dsc_loss': 0.683, 'vae_loss': 0.593, 'gen_loss': 0.559, 'joint_cross_loss': 0.535, 'real_cross_loss': 0.547, 'cos_loss': 0.333}, 4.5s elapsed\n"
     ]
    },
    {
     "name": "stdout",
     "output_type": "stream",
     "text": [
      "[INFO] LRScheduler: Learning rate reduction: step 1\n"
     ]
    },
    {
     "name": "stderr",
     "output_type": "stream",
     "text": [
      "INFO:LRScheduler:Learning rate reduction: step 1\n"
     ]
    },
    {
     "name": "stdout",
     "output_type": "stream",
     "text": [
      "[INFO] PairedSCGLUETrainer: [Epoch 70] train={'g_nll': 0.434, 'g_kl': 0.01, 'g_elbo': 0.444, 'x_rna_nll': 0.337, 'x_rna_kl': 0.011, 'x_rna_elbo': 0.348, 'x_atac_nll': 0.186, 'x_atac_kl': 0.002, 'x_atac_elbo': 0.188, 'dsc_loss': 0.693, 'vae_loss': 0.582, 'gen_loss': 0.547, 'joint_cross_loss': 0.523, 'real_cross_loss': 0.533, 'cos_loss': 0.335}, val={'g_nll': 0.433, 'g_kl': 0.01, 'g_elbo': 0.444, 'x_rna_nll': 0.338, 'x_rna_kl': 0.011, 'x_rna_elbo': 0.349, 'x_atac_nll': 0.193, 'x_atac_kl': 0.002, 'x_atac_elbo': 0.195, 'dsc_loss': 0.678, 'vae_loss': 0.59, 'gen_loss': 0.556, 'joint_cross_loss': 0.532, 'real_cross_loss': 0.544, 'cos_loss': 0.336}, 5.2s elapsed\n"
     ]
    },
    {
     "name": "stderr",
     "output_type": "stream",
     "text": [
      "INFO:PairedSCGLUETrainer:[Epoch 70] train={'g_nll': 0.434, 'g_kl': 0.01, 'g_elbo': 0.444, 'x_rna_nll': 0.337, 'x_rna_kl': 0.011, 'x_rna_elbo': 0.348, 'x_atac_nll': 0.186, 'x_atac_kl': 0.002, 'x_atac_elbo': 0.188, 'dsc_loss': 0.693, 'vae_loss': 0.582, 'gen_loss': 0.547, 'joint_cross_loss': 0.523, 'real_cross_loss': 0.533, 'cos_loss': 0.335}, val={'g_nll': 0.433, 'g_kl': 0.01, 'g_elbo': 0.444, 'x_rna_nll': 0.338, 'x_rna_kl': 0.011, 'x_rna_elbo': 0.349, 'x_atac_nll': 0.193, 'x_atac_kl': 0.002, 'x_atac_elbo': 0.195, 'dsc_loss': 0.678, 'vae_loss': 0.59, 'gen_loss': 0.556, 'joint_cross_loss': 0.532, 'real_cross_loss': 0.544, 'cos_loss': 0.336}, 5.2s elapsed\n"
     ]
    },
    {
     "name": "stdout",
     "output_type": "stream",
     "text": [
      "[INFO] LRScheduler: Learning rate reduction: step 2\n"
     ]
    },
    {
     "name": "stderr",
     "output_type": "stream",
     "text": [
      "INFO:LRScheduler:Learning rate reduction: step 2\n"
     ]
    },
    {
     "name": "stdout",
     "output_type": "stream",
     "text": [
      "[INFO] PairedSCGLUETrainer: [Epoch 80] train={'g_nll': 0.434, 'g_kl': 0.01, 'g_elbo': 0.444, 'x_rna_nll': 0.336, 'x_rna_kl': 0.011, 'x_rna_elbo': 0.348, 'x_atac_nll': 0.186, 'x_atac_kl': 0.002, 'x_atac_elbo': 0.188, 'dsc_loss': 0.692, 'vae_loss': 0.581, 'gen_loss': 0.547, 'joint_cross_loss': 0.522, 'real_cross_loss': 0.533, 'cos_loss': 0.334}, val={'g_nll': 0.432, 'g_kl': 0.01, 'g_elbo': 0.442, 'x_rna_nll': 0.337, 'x_rna_kl': 0.011, 'x_rna_elbo': 0.348, 'x_atac_nll': 0.194, 'x_atac_kl': 0.002, 'x_atac_elbo': 0.196, 'dsc_loss': 0.679, 'vae_loss': 0.59, 'gen_loss': 0.556, 'joint_cross_loss': 0.532, 'real_cross_loss': 0.544, 'cos_loss': 0.337}, 5.3s elapsed\n"
     ]
    },
    {
     "name": "stderr",
     "output_type": "stream",
     "text": [
      "INFO:PairedSCGLUETrainer:[Epoch 80] train={'g_nll': 0.434, 'g_kl': 0.01, 'g_elbo': 0.444, 'x_rna_nll': 0.336, 'x_rna_kl': 0.011, 'x_rna_elbo': 0.348, 'x_atac_nll': 0.186, 'x_atac_kl': 0.002, 'x_atac_elbo': 0.188, 'dsc_loss': 0.692, 'vae_loss': 0.581, 'gen_loss': 0.547, 'joint_cross_loss': 0.522, 'real_cross_loss': 0.533, 'cos_loss': 0.334}, val={'g_nll': 0.432, 'g_kl': 0.01, 'g_elbo': 0.442, 'x_rna_nll': 0.337, 'x_rna_kl': 0.011, 'x_rna_elbo': 0.348, 'x_atac_nll': 0.194, 'x_atac_kl': 0.002, 'x_atac_elbo': 0.196, 'dsc_loss': 0.679, 'vae_loss': 0.59, 'gen_loss': 0.556, 'joint_cross_loss': 0.532, 'real_cross_loss': 0.544, 'cos_loss': 0.337}, 5.3s elapsed\n"
     ]
    },
    {
     "name": "stdout",
     "output_type": "stream",
     "text": [
      "[INFO] PairedSCGLUETrainer: [Epoch 90] train={'g_nll': 0.434, 'g_kl': 0.01, 'g_elbo': 0.444, 'x_rna_nll': 0.336, 'x_rna_kl': 0.011, 'x_rna_elbo': 0.348, 'x_atac_nll': 0.186, 'x_atac_kl': 0.002, 'x_atac_elbo': 0.188, 'dsc_loss': 0.692, 'vae_loss': 0.582, 'gen_loss': 0.547, 'joint_cross_loss': 0.523, 'real_cross_loss': 0.533, 'cos_loss': 0.334}, val={'g_nll': 0.434, 'g_kl': 0.01, 'g_elbo': 0.444, 'x_rna_nll': 0.336, 'x_rna_kl': 0.011, 'x_rna_elbo': 0.347, 'x_atac_nll': 0.192, 'x_atac_kl': 0.002, 'x_atac_elbo': 0.195, 'dsc_loss': 0.68, 'vae_loss': 0.587, 'gen_loss': 0.553, 'joint_cross_loss': 0.529, 'real_cross_loss': 0.541, 'cos_loss': 0.335}, 4.5s elapsed\n"
     ]
    },
    {
     "name": "stderr",
     "output_type": "stream",
     "text": [
      "INFO:PairedSCGLUETrainer:[Epoch 90] train={'g_nll': 0.434, 'g_kl': 0.01, 'g_elbo': 0.444, 'x_rna_nll': 0.336, 'x_rna_kl': 0.011, 'x_rna_elbo': 0.348, 'x_atac_nll': 0.186, 'x_atac_kl': 0.002, 'x_atac_elbo': 0.188, 'dsc_loss': 0.692, 'vae_loss': 0.582, 'gen_loss': 0.547, 'joint_cross_loss': 0.523, 'real_cross_loss': 0.533, 'cos_loss': 0.334}, val={'g_nll': 0.434, 'g_kl': 0.01, 'g_elbo': 0.444, 'x_rna_nll': 0.336, 'x_rna_kl': 0.011, 'x_rna_elbo': 0.347, 'x_atac_nll': 0.192, 'x_atac_kl': 0.002, 'x_atac_elbo': 0.195, 'dsc_loss': 0.68, 'vae_loss': 0.587, 'gen_loss': 0.553, 'joint_cross_loss': 0.529, 'real_cross_loss': 0.541, 'cos_loss': 0.335}, 4.5s elapsed\n"
     ]
    },
    {
     "name": "stdout",
     "output_type": "stream",
     "text": [
      "[INFO] LRScheduler: Learning rate reduction: step 3\n"
     ]
    },
    {
     "name": "stderr",
     "output_type": "stream",
     "text": [
      "INFO:LRScheduler:Learning rate reduction: step 3\n"
     ]
    },
    {
     "name": "stdout",
     "output_type": "stream",
     "text": [
      "[INFO] PairedSCGLUETrainer: [Epoch 100] train={'g_nll': 0.434, 'g_kl': 0.01, 'g_elbo': 0.444, 'x_rna_nll': 0.336, 'x_rna_kl': 0.011, 'x_rna_elbo': 0.347, 'x_atac_nll': 0.186, 'x_atac_kl': 0.002, 'x_atac_elbo': 0.188, 'dsc_loss': 0.693, 'vae_loss': 0.581, 'gen_loss': 0.547, 'joint_cross_loss': 0.522, 'real_cross_loss': 0.533, 'cos_loss': 0.334}, val={'g_nll': 0.434, 'g_kl': 0.01, 'g_elbo': 0.444, 'x_rna_nll': 0.338, 'x_rna_kl': 0.011, 'x_rna_elbo': 0.349, 'x_atac_nll': 0.194, 'x_atac_kl': 0.002, 'x_atac_elbo': 0.196, 'dsc_loss': 0.684, 'vae_loss': 0.591, 'gen_loss': 0.557, 'joint_cross_loss': 0.533, 'real_cross_loss': 0.545, 'cos_loss': 0.335}, 4.4s elapsed\n"
     ]
    },
    {
     "name": "stderr",
     "output_type": "stream",
     "text": [
      "INFO:PairedSCGLUETrainer:[Epoch 100] train={'g_nll': 0.434, 'g_kl': 0.01, 'g_elbo': 0.444, 'x_rna_nll': 0.336, 'x_rna_kl': 0.011, 'x_rna_elbo': 0.347, 'x_atac_nll': 0.186, 'x_atac_kl': 0.002, 'x_atac_elbo': 0.188, 'dsc_loss': 0.693, 'vae_loss': 0.581, 'gen_loss': 0.547, 'joint_cross_loss': 0.522, 'real_cross_loss': 0.533, 'cos_loss': 0.334}, val={'g_nll': 0.434, 'g_kl': 0.01, 'g_elbo': 0.444, 'x_rna_nll': 0.338, 'x_rna_kl': 0.011, 'x_rna_elbo': 0.349, 'x_atac_nll': 0.194, 'x_atac_kl': 0.002, 'x_atac_elbo': 0.196, 'dsc_loss': 0.684, 'vae_loss': 0.591, 'gen_loss': 0.557, 'joint_cross_loss': 0.533, 'real_cross_loss': 0.545, 'cos_loss': 0.335}, 4.4s elapsed\n"
     ]
    },
    {
     "name": "stdout",
     "output_type": "stream",
     "text": [
      "[INFO] LRScheduler: Learning rate reduction: step 4\n"
     ]
    },
    {
     "name": "stderr",
     "output_type": "stream",
     "text": [
      "INFO:LRScheduler:Learning rate reduction: step 4\n"
     ]
    },
    {
     "name": "stdout",
     "output_type": "stream",
     "text": [
      "[INFO] PairedSCGLUETrainer: [Epoch 110] train={'g_nll': 0.434, 'g_kl': 0.01, 'g_elbo': 0.444, 'x_rna_nll': 0.336, 'x_rna_kl': 0.011, 'x_rna_elbo': 0.348, 'x_atac_nll': 0.186, 'x_atac_kl': 0.002, 'x_atac_elbo': 0.188, 'dsc_loss': 0.692, 'vae_loss': 0.582, 'gen_loss': 0.547, 'joint_cross_loss': 0.523, 'real_cross_loss': 0.533, 'cos_loss': 0.335}, val={'g_nll': 0.433, 'g_kl': 0.01, 'g_elbo': 0.443, 'x_rna_nll': 0.338, 'x_rna_kl': 0.011, 'x_rna_elbo': 0.349, 'x_atac_nll': 0.193, 'x_atac_kl': 0.002, 'x_atac_elbo': 0.195, 'dsc_loss': 0.682, 'vae_loss': 0.59, 'gen_loss': 0.556, 'joint_cross_loss': 0.532, 'real_cross_loss': 0.544, 'cos_loss': 0.334}, 5.4s elapsed\n"
     ]
    },
    {
     "name": "stderr",
     "output_type": "stream",
     "text": [
      "INFO:PairedSCGLUETrainer:[Epoch 110] train={'g_nll': 0.434, 'g_kl': 0.01, 'g_elbo': 0.444, 'x_rna_nll': 0.336, 'x_rna_kl': 0.011, 'x_rna_elbo': 0.348, 'x_atac_nll': 0.186, 'x_atac_kl': 0.002, 'x_atac_elbo': 0.188, 'dsc_loss': 0.692, 'vae_loss': 0.582, 'gen_loss': 0.547, 'joint_cross_loss': 0.523, 'real_cross_loss': 0.533, 'cos_loss': 0.335}, val={'g_nll': 0.433, 'g_kl': 0.01, 'g_elbo': 0.443, 'x_rna_nll': 0.338, 'x_rna_kl': 0.011, 'x_rna_elbo': 0.349, 'x_atac_nll': 0.193, 'x_atac_kl': 0.002, 'x_atac_elbo': 0.195, 'dsc_loss': 0.682, 'vae_loss': 0.59, 'gen_loss': 0.556, 'joint_cross_loss': 0.532, 'real_cross_loss': 0.544, 'cos_loss': 0.334}, 5.4s elapsed\n",
      "2024-12-06 07:10:18,572 ignite.handlers.early_stopping.EarlyStopping INFO: EarlyStopping: Stop training\n"
     ]
    },
    {
     "name": "stdout",
     "output_type": "stream",
     "text": [
      "[INFO] EarlyStopping: Restoring checkpoint \"90\"...\n"
     ]
    },
    {
     "name": "stderr",
     "output_type": "stream",
     "text": [
      "INFO:EarlyStopping:Restoring checkpoint \"90\"...\n"
     ]
    },
    {
     "name": "stdout",
     "output_type": "stream",
     "text": [
      "[INFO] EarlyStopping: Restoring checkpoint \"90\"...\n"
     ]
    },
    {
     "name": "stderr",
     "output_type": "stream",
     "text": [
      "/usr/local/lib/python3.10/dist-packages/scglue/models/plugins.py:145: FutureWarning: You are using `torch.load` with `weights_only=False` (the current default value), which uses the default pickle module implicitly. It is possible to construct malicious pickle data which will execute arbitrary code during unpickling (See https://github.com/pytorch/pytorch/blob/main/SECURITY.md#untrusted-models for more details). In a future release, the default value for `weights_only` will be flipped to `True`. This limits the functions that could be executed during unpickling. Arbitrary objects will no longer be allowed to be loaded via this mode unless they are explicitly allowlisted by the user via `torch.serialization.add_safe_globals`. We recommend you start setting `weights_only=True` for any use case where you don't have full control of the loaded file. Please open an issue on GitHub for any issues related to this experimental feature.\n",
      "  loaded = torch.load(directory / f\"checkpoint_{ckpts[0]}.pt\")\n",
      "INFO:EarlyStopping:Restoring checkpoint \"90\"...\n",
      "DEBUG:GraphDataset:Joined background process: 4806\n"
     ]
    }
   ],
   "source": [
    "glue = scglue.models.fit_SCGLUE(\n",
    "    {\"rna\": rna, \"atac\": atac}, guidance_hvf,\n",
    "    model=scglue.models.PairedSCGLUEModel,\n",
    "    fit_kws={\n",
    "        \"directory\": \"glue\"\n",
    "    }\n",
    ")"
   ]
  },
  {
   "cell_type": "code",
   "execution_count": 15,
   "metadata": {
    "colab": {
     "base_uri": "https://localhost:8080/",
     "height": 901
    },
    "id": "IVa-OSSQvz1Y",
    "outputId": "4f8a8f78-b89d-4e76-dd5e-15c31271e15f"
   },
   "outputs": [
    {
     "name": "stdout",
     "output_type": "stream",
     "text": [
      "[INFO] integration_consistency: Using layer \"counts\" for modality \"rna\"\n"
     ]
    },
    {
     "name": "stderr",
     "output_type": "stream",
     "text": [
      "INFO:integration_consistency:Using layer \"counts\" for modality \"rna\"\n"
     ]
    },
    {
     "name": "stdout",
     "output_type": "stream",
     "text": [
      "[INFO] integration_consistency: Selecting aggregation \"sum\" for modality \"rna\"\n"
     ]
    },
    {
     "name": "stderr",
     "output_type": "stream",
     "text": [
      "INFO:integration_consistency:Selecting aggregation \"sum\" for modality \"rna\"\n"
     ]
    },
    {
     "name": "stdout",
     "output_type": "stream",
     "text": [
      "[INFO] integration_consistency: Selecting aggregation \"sum\" for modality \"atac\"\n"
     ]
    },
    {
     "name": "stderr",
     "output_type": "stream",
     "text": [
      "INFO:integration_consistency:Selecting aggregation \"sum\" for modality \"atac\"\n"
     ]
    },
    {
     "name": "stdout",
     "output_type": "stream",
     "text": [
      "[INFO] integration_consistency: Selecting log-norm preprocessing for modality \"rna\"\n"
     ]
    },
    {
     "name": "stderr",
     "output_type": "stream",
     "text": [
      "INFO:integration_consistency:Selecting log-norm preprocessing for modality \"rna\"\n"
     ]
    },
    {
     "name": "stdout",
     "output_type": "stream",
     "text": [
      "[INFO] integration_consistency: Selecting log-norm preprocessing for modality \"atac\"\n"
     ]
    },
    {
     "name": "stderr",
     "output_type": "stream",
     "text": [
      "INFO:integration_consistency:Selecting log-norm preprocessing for modality \"atac\"\n"
     ]
    },
    {
     "name": "stdout",
     "output_type": "stream",
     "text": [
      "[INFO] get_metacells: Clustering metacells...\n"
     ]
    },
    {
     "name": "stderr",
     "output_type": "stream",
     "text": [
      "INFO:get_metacells:Clustering metacells...\n"
     ]
    },
    {
     "name": "stdout",
     "output_type": "stream",
     "text": [
      "[INFO] get_metacells: Aggregating metacells...\n"
     ]
    },
    {
     "name": "stderr",
     "output_type": "stream",
     "text": [
      "INFO:get_metacells:Aggregating metacells...\n"
     ]
    },
    {
     "name": "stdout",
     "output_type": "stream",
     "text": [
      "[INFO] metacell_corr: Computing correlation on 10 common metacells...\n"
     ]
    },
    {
     "name": "stderr",
     "output_type": "stream",
     "text": [
      "INFO:metacell_corr:Computing correlation on 10 common metacells...\n"
     ]
    },
    {
     "name": "stdout",
     "output_type": "stream",
     "text": [
      "[INFO] get_metacells: Clustering metacells...\n"
     ]
    },
    {
     "name": "stderr",
     "output_type": "stream",
     "text": [
      "INFO:get_metacells:Clustering metacells...\n"
     ]
    },
    {
     "name": "stdout",
     "output_type": "stream",
     "text": [
      "[INFO] get_metacells: Aggregating metacells...\n"
     ]
    },
    {
     "name": "stderr",
     "output_type": "stream",
     "text": [
      "INFO:get_metacells:Aggregating metacells...\n"
     ]
    },
    {
     "name": "stdout",
     "output_type": "stream",
     "text": [
      "[INFO] metacell_corr: Computing correlation on 20 common metacells...\n"
     ]
    },
    {
     "name": "stderr",
     "output_type": "stream",
     "text": [
      "INFO:metacell_corr:Computing correlation on 20 common metacells...\n"
     ]
    },
    {
     "name": "stdout",
     "output_type": "stream",
     "text": [
      "[INFO] get_metacells: Clustering metacells...\n"
     ]
    },
    {
     "name": "stderr",
     "output_type": "stream",
     "text": [
      "INFO:get_metacells:Clustering metacells...\n"
     ]
    },
    {
     "name": "stdout",
     "output_type": "stream",
     "text": [
      "[INFO] get_metacells: Aggregating metacells...\n"
     ]
    },
    {
     "name": "stderr",
     "output_type": "stream",
     "text": [
      "INFO:get_metacells:Aggregating metacells...\n"
     ]
    },
    {
     "name": "stdout",
     "output_type": "stream",
     "text": [
      "[INFO] metacell_corr: Computing correlation on 50 common metacells...\n"
     ]
    },
    {
     "name": "stderr",
     "output_type": "stream",
     "text": [
      "INFO:metacell_corr:Computing correlation on 50 common metacells...\n"
     ]
    },
    {
     "name": "stdout",
     "output_type": "stream",
     "text": [
      "[INFO] get_metacells: Clustering metacells...\n"
     ]
    },
    {
     "name": "stderr",
     "output_type": "stream",
     "text": [
      "INFO:get_metacells:Clustering metacells...\n"
     ]
    },
    {
     "name": "stdout",
     "output_type": "stream",
     "text": [
      "[INFO] get_metacells: Aggregating metacells...\n"
     ]
    },
    {
     "name": "stderr",
     "output_type": "stream",
     "text": [
      "INFO:get_metacells:Aggregating metacells...\n"
     ]
    },
    {
     "name": "stdout",
     "output_type": "stream",
     "text": [
      "[INFO] metacell_corr: Computing correlation on 100 common metacells...\n"
     ]
    },
    {
     "name": "stderr",
     "output_type": "stream",
     "text": [
      "INFO:metacell_corr:Computing correlation on 100 common metacells...\n"
     ]
    },
    {
     "name": "stdout",
     "output_type": "stream",
     "text": [
      "[INFO] get_metacells: Clustering metacells...\n"
     ]
    },
    {
     "name": "stderr",
     "output_type": "stream",
     "text": [
      "INFO:get_metacells:Clustering metacells...\n"
     ]
    },
    {
     "name": "stdout",
     "output_type": "stream",
     "text": [
      "[INFO] get_metacells: Aggregating metacells...\n"
     ]
    },
    {
     "name": "stderr",
     "output_type": "stream",
     "text": [
      "INFO:get_metacells:Aggregating metacells...\n"
     ]
    },
    {
     "name": "stdout",
     "output_type": "stream",
     "text": [
      "[INFO] metacell_corr: Computing correlation on 200 common metacells...\n"
     ]
    },
    {
     "name": "stderr",
     "output_type": "stream",
     "text": [
      "INFO:metacell_corr:Computing correlation on 200 common metacells...\n"
     ]
    },
    {
     "data": {
      "application/vnd.google.colaboratory.intrinsic+json": {
       "summary": "{\n  \"name\": \"dx\",\n  \"rows\": 5,\n  \"fields\": [\n    {\n      \"column\": \"n_meta\",\n      \"properties\": {\n        \"dtype\": \"number\",\n        \"std\": 77,\n        \"min\": 10,\n        \"max\": 200,\n        \"num_unique_values\": 5,\n        \"samples\": [\n          20,\n          200,\n          50\n        ],\n        \"semantic_type\": \"\",\n        \"description\": \"\"\n      }\n    },\n    {\n      \"column\": \"consistency\",\n      \"properties\": {\n        \"dtype\": \"number\",\n        \"std\": 0.04773852054137805,\n        \"min\": 0.28766337982739987,\n        \"max\": 0.4136931584893138,\n        \"num_unique_values\": 5,\n        \"samples\": [\n          0.3671862842292433,\n          0.28766337982739987,\n          0.3474181886996338\n        ],\n        \"semantic_type\": \"\",\n        \"description\": \"\"\n      }\n    }\n  ]\n}",
       "type": "dataframe",
       "variable_name": "dx"
      },
      "text/html": [
       "\n",
       "  <div id=\"df-23e9a46a-e4c1-44ba-98a3-84039eb4885f\" class=\"colab-df-container\">\n",
       "    <div>\n",
       "<style scoped>\n",
       "    .dataframe tbody tr th:only-of-type {\n",
       "        vertical-align: middle;\n",
       "    }\n",
       "\n",
       "    .dataframe tbody tr th {\n",
       "        vertical-align: top;\n",
       "    }\n",
       "\n",
       "    .dataframe thead th {\n",
       "        text-align: right;\n",
       "    }\n",
       "</style>\n",
       "<table border=\"1\" class=\"dataframe\">\n",
       "  <thead>\n",
       "    <tr style=\"text-align: right;\">\n",
       "      <th></th>\n",
       "      <th>n_meta</th>\n",
       "      <th>consistency</th>\n",
       "    </tr>\n",
       "  </thead>\n",
       "  <tbody>\n",
       "    <tr>\n",
       "      <th>0</th>\n",
       "      <td>10</td>\n",
       "      <td>0.413693</td>\n",
       "    </tr>\n",
       "    <tr>\n",
       "      <th>1</th>\n",
       "      <td>20</td>\n",
       "      <td>0.367186</td>\n",
       "    </tr>\n",
       "    <tr>\n",
       "      <th>2</th>\n",
       "      <td>50</td>\n",
       "      <td>0.347418</td>\n",
       "    </tr>\n",
       "    <tr>\n",
       "      <th>3</th>\n",
       "      <td>100</td>\n",
       "      <td>0.319806</td>\n",
       "    </tr>\n",
       "    <tr>\n",
       "      <th>4</th>\n",
       "      <td>200</td>\n",
       "      <td>0.287663</td>\n",
       "    </tr>\n",
       "  </tbody>\n",
       "</table>\n",
       "</div>\n",
       "    <div class=\"colab-df-buttons\">\n",
       "\n",
       "  <div class=\"colab-df-container\">\n",
       "    <button class=\"colab-df-convert\" onclick=\"convertToInteractive('df-23e9a46a-e4c1-44ba-98a3-84039eb4885f')\"\n",
       "            title=\"Convert this dataframe to an interactive table.\"\n",
       "            style=\"display:none;\">\n",
       "\n",
       "  <svg xmlns=\"http://www.w3.org/2000/svg\" height=\"24px\" viewBox=\"0 -960 960 960\">\n",
       "    <path d=\"M120-120v-720h720v720H120Zm60-500h600v-160H180v160Zm220 220h160v-160H400v160Zm0 220h160v-160H400v160ZM180-400h160v-160H180v160Zm440 0h160v-160H620v160ZM180-180h160v-160H180v160Zm440 0h160v-160H620v160Z\"/>\n",
       "  </svg>\n",
       "    </button>\n",
       "\n",
       "  <style>\n",
       "    .colab-df-container {\n",
       "      display:flex;\n",
       "      gap: 12px;\n",
       "    }\n",
       "\n",
       "    .colab-df-convert {\n",
       "      background-color: #E8F0FE;\n",
       "      border: none;\n",
       "      border-radius: 50%;\n",
       "      cursor: pointer;\n",
       "      display: none;\n",
       "      fill: #1967D2;\n",
       "      height: 32px;\n",
       "      padding: 0 0 0 0;\n",
       "      width: 32px;\n",
       "    }\n",
       "\n",
       "    .colab-df-convert:hover {\n",
       "      background-color: #E2EBFA;\n",
       "      box-shadow: 0px 1px 2px rgba(60, 64, 67, 0.3), 0px 1px 3px 1px rgba(60, 64, 67, 0.15);\n",
       "      fill: #174EA6;\n",
       "    }\n",
       "\n",
       "    .colab-df-buttons div {\n",
       "      margin-bottom: 4px;\n",
       "    }\n",
       "\n",
       "    [theme=dark] .colab-df-convert {\n",
       "      background-color: #3B4455;\n",
       "      fill: #D2E3FC;\n",
       "    }\n",
       "\n",
       "    [theme=dark] .colab-df-convert:hover {\n",
       "      background-color: #434B5C;\n",
       "      box-shadow: 0px 1px 3px 1px rgba(0, 0, 0, 0.15);\n",
       "      filter: drop-shadow(0px 1px 2px rgba(0, 0, 0, 0.3));\n",
       "      fill: #FFFFFF;\n",
       "    }\n",
       "  </style>\n",
       "\n",
       "    <script>\n",
       "      const buttonEl =\n",
       "        document.querySelector('#df-23e9a46a-e4c1-44ba-98a3-84039eb4885f button.colab-df-convert');\n",
       "      buttonEl.style.display =\n",
       "        google.colab.kernel.accessAllowed ? 'block' : 'none';\n",
       "\n",
       "      async function convertToInteractive(key) {\n",
       "        const element = document.querySelector('#df-23e9a46a-e4c1-44ba-98a3-84039eb4885f');\n",
       "        const dataTable =\n",
       "          await google.colab.kernel.invokeFunction('convertToInteractive',\n",
       "                                                    [key], {});\n",
       "        if (!dataTable) return;\n",
       "\n",
       "        const docLinkHtml = 'Like what you see? Visit the ' +\n",
       "          '<a target=\"_blank\" href=https://colab.research.google.com/notebooks/data_table.ipynb>data table notebook</a>'\n",
       "          + ' to learn more about interactive tables.';\n",
       "        element.innerHTML = '';\n",
       "        dataTable['output_type'] = 'display_data';\n",
       "        await google.colab.output.renderOutput(dataTable, element);\n",
       "        const docLink = document.createElement('div');\n",
       "        docLink.innerHTML = docLinkHtml;\n",
       "        element.appendChild(docLink);\n",
       "      }\n",
       "    </script>\n",
       "  </div>\n",
       "\n",
       "\n",
       "<div id=\"df-eb560250-a489-428f-9196-b1c1d3394247\">\n",
       "  <button class=\"colab-df-quickchart\" onclick=\"quickchart('df-eb560250-a489-428f-9196-b1c1d3394247')\"\n",
       "            title=\"Suggest charts\"\n",
       "            style=\"display:none;\">\n",
       "\n",
       "<svg xmlns=\"http://www.w3.org/2000/svg\" height=\"24px\"viewBox=\"0 0 24 24\"\n",
       "     width=\"24px\">\n",
       "    <g>\n",
       "        <path d=\"M19 3H5c-1.1 0-2 .9-2 2v14c0 1.1.9 2 2 2h14c1.1 0 2-.9 2-2V5c0-1.1-.9-2-2-2zM9 17H7v-7h2v7zm4 0h-2V7h2v10zm4 0h-2v-4h2v4z\"/>\n",
       "    </g>\n",
       "</svg>\n",
       "  </button>\n",
       "\n",
       "<style>\n",
       "  .colab-df-quickchart {\n",
       "      --bg-color: #E8F0FE;\n",
       "      --fill-color: #1967D2;\n",
       "      --hover-bg-color: #E2EBFA;\n",
       "      --hover-fill-color: #174EA6;\n",
       "      --disabled-fill-color: #AAA;\n",
       "      --disabled-bg-color: #DDD;\n",
       "  }\n",
       "\n",
       "  [theme=dark] .colab-df-quickchart {\n",
       "      --bg-color: #3B4455;\n",
       "      --fill-color: #D2E3FC;\n",
       "      --hover-bg-color: #434B5C;\n",
       "      --hover-fill-color: #FFFFFF;\n",
       "      --disabled-bg-color: #3B4455;\n",
       "      --disabled-fill-color: #666;\n",
       "  }\n",
       "\n",
       "  .colab-df-quickchart {\n",
       "    background-color: var(--bg-color);\n",
       "    border: none;\n",
       "    border-radius: 50%;\n",
       "    cursor: pointer;\n",
       "    display: none;\n",
       "    fill: var(--fill-color);\n",
       "    height: 32px;\n",
       "    padding: 0;\n",
       "    width: 32px;\n",
       "  }\n",
       "\n",
       "  .colab-df-quickchart:hover {\n",
       "    background-color: var(--hover-bg-color);\n",
       "    box-shadow: 0 1px 2px rgba(60, 64, 67, 0.3), 0 1px 3px 1px rgba(60, 64, 67, 0.15);\n",
       "    fill: var(--button-hover-fill-color);\n",
       "  }\n",
       "\n",
       "  .colab-df-quickchart-complete:disabled,\n",
       "  .colab-df-quickchart-complete:disabled:hover {\n",
       "    background-color: var(--disabled-bg-color);\n",
       "    fill: var(--disabled-fill-color);\n",
       "    box-shadow: none;\n",
       "  }\n",
       "\n",
       "  .colab-df-spinner {\n",
       "    border: 2px solid var(--fill-color);\n",
       "    border-color: transparent;\n",
       "    border-bottom-color: var(--fill-color);\n",
       "    animation:\n",
       "      spin 1s steps(1) infinite;\n",
       "  }\n",
       "\n",
       "  @keyframes spin {\n",
       "    0% {\n",
       "      border-color: transparent;\n",
       "      border-bottom-color: var(--fill-color);\n",
       "      border-left-color: var(--fill-color);\n",
       "    }\n",
       "    20% {\n",
       "      border-color: transparent;\n",
       "      border-left-color: var(--fill-color);\n",
       "      border-top-color: var(--fill-color);\n",
       "    }\n",
       "    30% {\n",
       "      border-color: transparent;\n",
       "      border-left-color: var(--fill-color);\n",
       "      border-top-color: var(--fill-color);\n",
       "      border-right-color: var(--fill-color);\n",
       "    }\n",
       "    40% {\n",
       "      border-color: transparent;\n",
       "      border-right-color: var(--fill-color);\n",
       "      border-top-color: var(--fill-color);\n",
       "    }\n",
       "    60% {\n",
       "      border-color: transparent;\n",
       "      border-right-color: var(--fill-color);\n",
       "    }\n",
       "    80% {\n",
       "      border-color: transparent;\n",
       "      border-right-color: var(--fill-color);\n",
       "      border-bottom-color: var(--fill-color);\n",
       "    }\n",
       "    90% {\n",
       "      border-color: transparent;\n",
       "      border-bottom-color: var(--fill-color);\n",
       "    }\n",
       "  }\n",
       "</style>\n",
       "\n",
       "  <script>\n",
       "    async function quickchart(key) {\n",
       "      const quickchartButtonEl =\n",
       "        document.querySelector('#' + key + ' button');\n",
       "      quickchartButtonEl.disabled = true;  // To prevent multiple clicks.\n",
       "      quickchartButtonEl.classList.add('colab-df-spinner');\n",
       "      try {\n",
       "        const charts = await google.colab.kernel.invokeFunction(\n",
       "            'suggestCharts', [key], {});\n",
       "      } catch (error) {\n",
       "        console.error('Error during call to suggestCharts:', error);\n",
       "      }\n",
       "      quickchartButtonEl.classList.remove('colab-df-spinner');\n",
       "      quickchartButtonEl.classList.add('colab-df-quickchart-complete');\n",
       "    }\n",
       "    (() => {\n",
       "      let quickchartButtonEl =\n",
       "        document.querySelector('#df-eb560250-a489-428f-9196-b1c1d3394247 button');\n",
       "      quickchartButtonEl.style.display =\n",
       "        google.colab.kernel.accessAllowed ? 'block' : 'none';\n",
       "    })();\n",
       "  </script>\n",
       "</div>\n",
       "\n",
       "  <div id=\"id_c7e5f589-f8dd-44c6-b7b6-f396a3c38283\">\n",
       "    <style>\n",
       "      .colab-df-generate {\n",
       "        background-color: #E8F0FE;\n",
       "        border: none;\n",
       "        border-radius: 50%;\n",
       "        cursor: pointer;\n",
       "        display: none;\n",
       "        fill: #1967D2;\n",
       "        height: 32px;\n",
       "        padding: 0 0 0 0;\n",
       "        width: 32px;\n",
       "      }\n",
       "\n",
       "      .colab-df-generate:hover {\n",
       "        background-color: #E2EBFA;\n",
       "        box-shadow: 0px 1px 2px rgba(60, 64, 67, 0.3), 0px 1px 3px 1px rgba(60, 64, 67, 0.15);\n",
       "        fill: #174EA6;\n",
       "      }\n",
       "\n",
       "      [theme=dark] .colab-df-generate {\n",
       "        background-color: #3B4455;\n",
       "        fill: #D2E3FC;\n",
       "      }\n",
       "\n",
       "      [theme=dark] .colab-df-generate:hover {\n",
       "        background-color: #434B5C;\n",
       "        box-shadow: 0px 1px 3px 1px rgba(0, 0, 0, 0.15);\n",
       "        filter: drop-shadow(0px 1px 2px rgba(0, 0, 0, 0.3));\n",
       "        fill: #FFFFFF;\n",
       "      }\n",
       "    </style>\n",
       "    <button class=\"colab-df-generate\" onclick=\"generateWithVariable('dx')\"\n",
       "            title=\"Generate code using this dataframe.\"\n",
       "            style=\"display:none;\">\n",
       "\n",
       "  <svg xmlns=\"http://www.w3.org/2000/svg\" height=\"24px\"viewBox=\"0 0 24 24\"\n",
       "       width=\"24px\">\n",
       "    <path d=\"M7,19H8.4L18.45,9,17,7.55,7,17.6ZM5,21V16.75L18.45,3.32a2,2,0,0,1,2.83,0l1.4,1.43a1.91,1.91,0,0,1,.58,1.4,1.91,1.91,0,0,1-.58,1.4L9.25,21ZM18.45,9,17,7.55Zm-12,3A5.31,5.31,0,0,0,4.9,8.1,5.31,5.31,0,0,0,1,6.5,5.31,5.31,0,0,0,4.9,4.9,5.31,5.31,0,0,0,6.5,1,5.31,5.31,0,0,0,8.1,4.9,5.31,5.31,0,0,0,12,6.5,5.46,5.46,0,0,0,6.5,12Z\"/>\n",
       "  </svg>\n",
       "    </button>\n",
       "    <script>\n",
       "      (() => {\n",
       "      const buttonEl =\n",
       "        document.querySelector('#id_c7e5f589-f8dd-44c6-b7b6-f396a3c38283 button.colab-df-generate');\n",
       "      buttonEl.style.display =\n",
       "        google.colab.kernel.accessAllowed ? 'block' : 'none';\n",
       "\n",
       "      buttonEl.onclick = () => {\n",
       "        google.colab.notebook.generateWithVariable('dx');\n",
       "      }\n",
       "      })();\n",
       "    </script>\n",
       "  </div>\n",
       "\n",
       "    </div>\n",
       "  </div>\n"
      ],
      "text/plain": [
       "   n_meta  consistency\n",
       "0      10     0.413693\n",
       "1      20     0.367186\n",
       "2      50     0.347418\n",
       "3     100     0.319806\n",
       "4     200     0.287663"
      ]
     },
     "execution_count": 15,
     "metadata": {},
     "output_type": "execute_result"
    }
   ],
   "source": [
    "dx = scglue.models.integration_consistency(\n",
    "    glue, {\"rna\": rna, \"atac\": atac}, guidance_hvf\n",
    ")\n",
    "dx"
   ]
  },
  {
   "cell_type": "code",
   "execution_count": 16,
   "metadata": {
    "colab": {
     "base_uri": "https://localhost:8080/",
     "height": 317
    },
    "id": "DXURc1YV6MSk",
    "outputId": "f6558d75-0e27-47fc-9356-d7c5fa705ece"
   },
   "outputs": [
    {
     "data": {
      "image/png": "[encoded data removed]",
      "text/plain": [
       "<Figure size 320x320 with 1 Axes>"
      ]
     },
     "metadata": {
      "image/png": {
       "height": 300,
       "width": 320
      },
      "needs_background": "light"
     },
     "output_type": "display_data"
    }
   ],
   "source": [
    "_ = sns.lineplot(x=\"n_meta\", y=\"consistency\", data=dx).axhline(y=0.05, c=\"darkred\", ls=\"--\")"
   ]
  }
 ],
 "metadata": {
  "accelerator": "GPU",
  "colab": {
   "gpuType": "T4",
   "provenance": []
  },
  "kernelspec": {
   "display_name": "Python 3",
   "name": "python3"
  },
  "language_info": {
   "name": "python"
  }
 },
 "nbformat": 4,
 "nbformat_minor": 0
}
