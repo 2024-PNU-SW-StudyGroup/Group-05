{
 "cells": [
  {
   "cell_type": "code",
   "execution_count": null,
   "metadata": {},
   "outputs": [],
   "source": [
    "%pip install pywgcna"
   ]
  },
  {
   "cell_type": "code",
   "execution_count": null,
   "metadata": {},
   "outputs": [],
   "source": [
    "import pandas as pd\n",
    "import numpy as np\n",
    "import matplotlib.pyplot as plt\n",
    "from pywgcna import WGCNA"
   ]
  },
  {
   "cell_type": "code",
   "execution_count": null,
   "metadata": {},
   "outputs": [],
   "source": [
    "# 임의의 gene expression data 생성\n",
    "np.random.seed(42)\n",
    "gene_expression_data = pd.DataFrame(\n",
    "    np.random.rand(50, 100),  # 50 samples, 100 genes\n",
    "    columns=[f\"Gene_{i+1}\" for i in range(100)],\n",
    "    index=[f\"Sample_{i+1}\" for i in range(50)]\n",
    ")"
   ]
  },
  {
   "cell_type": "code",
   "execution_count": null,
   "metadata": {},
   "outputs": [],
   "source": [
    "wgcna = WGCNA(gene_expression_data)"
   ]
  },
  {
   "cell_type": "code",
   "execution_count": null,
   "metadata": {},
   "outputs": [],
   "source": [
    "sft = wgcna.pick_soft_threshold()"
   ]
  },
  {
   "cell_type": "code",
   "execution_count": null,
   "metadata": {},
   "outputs": [],
   "source": [
    "# Plot soft-threshold selection\n",
    "plt.plot(sft['power'], sft['scale_free_fit'], marker='o')\n",
    "plt.xlabel(\"Soft-Thresholding Power\")\n",
    "plt.ylabel(\"Scale-Free Topology Fit Index\")\n",
    "plt.title(\"Soft Threshold Selection\")\n",
    "plt.show()"
   ]
  },
  {
   "cell_type": "code",
   "execution_count": null,
   "metadata": {},
   "outputs": [],
   "source": [
    "# build network\n",
    "wgcna.set_power(6)\n",
    "modules = wgcna.build_network(min_module_size=30)"
   ]
  },
  {
   "cell_type": "code",
   "execution_count": null,
   "metadata": {},
   "outputs": [],
   "source": [
    "# Plot dendrogram\n",
    "wgcna.plot_dendrogram()\n",
    "plt.show()"
   ]
  },
  {
   "cell_type": "code",
   "execution_count": null,
   "metadata": {},
   "outputs": [],
   "source": [
    "module_trait_corr = wgcna.module_trait_correlation()"
   ]
  },
  {
   "cell_type": "code",
   "execution_count": null,
   "metadata": {},
   "outputs": [],
   "source": [
    "plt.imshow(module_trait_corr, cmap='coolwarm', aspect='auto')\n",
    "plt.colorbar()\n",
    "plt.title(\"Module-Trait Correlation Heatmap\")\n",
    "plt.show()"
   ]
  },
  {
   "cell_type": "code",
   "execution_count": null,
   "metadata": {},
   "outputs": [],
   "source": [
    "blue_module_genes = wgcna.get_module_genes(\"blue\")\n",
    "print(\"Genes in Blue Module:\")\n",
    "print(blue_module_genes)"
   ]
  },
  {
   "cell_type": "code",
   "execution_count": null,
   "metadata": {},
   "outputs": [],
   "source": [
    "# 데이터 저장\n",
    "modules.to_csv(\"modules.csv\", index=False)\n",
    "pd.DataFrame(blue_module_genes, columns=[\"Gene\"]).to_csv(\"blue_module_genes.csv\", index=False)"
   ]
  }
 ],
 "metadata": {
  "language_info": {
   "name": "python"
  }
 },
 "nbformat": 4,
 "nbformat_minor": 2
}
